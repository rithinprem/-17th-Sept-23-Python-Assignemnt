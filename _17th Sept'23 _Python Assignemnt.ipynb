{
 "cells": [
  {
   "cell_type": "markdown",
   "id": "b84e66e1-d062-429b-9ce2-6597a249b62b",
   "metadata": {},
   "source": [
    "# for loop----"
   ]
  },
  {
   "cell_type": "code",
   "execution_count": 1,
   "id": "bfd35d17-2625-46f1-a73b-8b3457aed018",
   "metadata": {},
   "outputs": [
    {
     "name": "stdout",
     "output_type": "stream",
     "text": [
      "1\n",
      "2\n",
      "3\n",
      "4\n",
      "5\n",
      "6\n",
      "7\n",
      "8\n",
      "9\n",
      "10\n"
     ]
    }
   ],
   "source": [
    "#1.\tWrite a Python program to print numbers from 1 to 10 using a for loop.\n",
    "\n",
    "for i in range(1,11):\n",
    "    print(i)"
   ]
  },
  {
   "cell_type": "raw",
   "id": "c0ae1717-f4e6-44e6-866c-6b0761b8ea9f",
   "metadata": {},
   "source": [
    "#2.\tExplain the difference between a for loop and a while loop in Python.\n",
    "\n",
    "Ans:\n",
    "    Both for and while loop is used for iteration but there are differences in it they are - \n",
    "    \n",
    "Termination Condition:\n",
    "\n",
    "In a for loop, the number of iterations is determined by the length of the sequence.\n",
    "In a while loop, the loop continues until a specified condition becomes False.\n",
    "\n",
    "Initialization and Incrementation:\n",
    "\n",
    "The for loop automatically iterates over the elements of a sequence.\n",
    "The while loop requires explicit initialization and incrementation of the loop control variable inside the loop.\n",
    "\n",
    "Readability:\n",
    "for loops are often more readable when the number of iterations is known.\n",
    "while loops are preferable when the loop continuation depends on a specific condition.\n",
    "\n",
    "Infinite Loop Risk:\n",
    "There is a risk of creating an infinite loop in a while loop if the termination condition is not met.\n",
    "for loops are generally safer in this regard since the number of iterations is controlled by the length of the sequence."
   ]
  },
  {
   "cell_type": "code",
   "execution_count": 2,
   "id": "8eab27db-375b-4e68-96b5-9d1adbdb132f",
   "metadata": {},
   "outputs": [
    {
     "name": "stdout",
     "output_type": "stream",
     "text": [
      "5050\n"
     ]
    }
   ],
   "source": [
    "#3.\tWrite a Python program to calculate the sum of all numbers from 1 to 100 using a for loop.\n",
    "\n",
    "sum = 0\n",
    "for i in range(1,101):\n",
    "    sum+=i\n",
    "print(sum)"
   ]
  },
  {
   "cell_type": "code",
   "execution_count": 39,
   "id": "3405b4c8-cbce-4405-b524-e2b2bfb8d669",
   "metadata": {},
   "outputs": [
    {
     "name": "stdout",
     "output_type": "stream",
     "text": [
      "1\n",
      "2\n",
      "3\n"
     ]
    }
   ],
   "source": [
    "#4.\tHow do you iterate through a list using a for loop in Python?\n",
    "\n",
    "#Ans: \n",
    "\n",
    "#Syntax\n",
    "list_of_elements = [1,2,3]\n",
    "for variable in list_of_elements :\n",
    "    print(variable)"
   ]
  },
  {
   "cell_type": "code",
   "execution_count": 4,
   "id": "6d63586b-d209-4c99-a8b3-5e9b2c46f849",
   "metadata": {},
   "outputs": [
    {
     "name": "stdout",
     "output_type": "stream",
     "text": [
      "120\n"
     ]
    }
   ],
   "source": [
    "#5.\tWrite a Python program to find the product of all elements in a list using a for loop.\n",
    "list_ = [1,2,3,4,5]\n",
    "ans = 1\n",
    "for i in list_:\n",
    "    ans*=i\n",
    "print(ans)"
   ]
  },
  {
   "cell_type": "code",
   "execution_count": 5,
   "id": "24b42c7c-0aeb-4ed0-9ad8-48696c981617",
   "metadata": {},
   "outputs": [
    {
     "name": "stdout",
     "output_type": "stream",
     "text": [
      "2\n",
      "4\n",
      "6\n",
      "8\n",
      "10\n",
      "12\n",
      "14\n",
      "16\n",
      "18\n",
      "20\n"
     ]
    }
   ],
   "source": [
    "#6.\tCreate a Python program that prints all even numbers from 1 to 20 using a for loop.\n",
    "\n",
    "for i in range(1,21):\n",
    "    if i%2==0:\n",
    "        print(i)"
   ]
  },
  {
   "cell_type": "code",
   "execution_count": 12,
   "id": "4c6b1e96-2741-4fd4-b1d4-fdaf782ee584",
   "metadata": {},
   "outputs": [
    {
     "name": "stdin",
     "output_type": "stream",
     "text": [
      "Enter number to calculate factorial: 4\n"
     ]
    },
    {
     "name": "stdout",
     "output_type": "stream",
     "text": [
      "24\n"
     ]
    }
   ],
   "source": [
    "#7.\tWrite a Python program that calculates the factorial of a number using a for loop.\n",
    "\n",
    "def fac(num):\n",
    "    ans = 1\n",
    "    for i in range(num,0,-1):\n",
    "        ans = ans*i\n",
    "    return ans\n",
    "\n",
    "num= int(input(\"Enter number to calculate factorial:\"))\n",
    "print(fac(num))"
   ]
  },
  {
   "cell_type": "code",
   "execution_count": 40,
   "id": "6b5573e0-84f1-4630-a2f4-d911e060353e",
   "metadata": {},
   "outputs": [
    {
     "name": "stdout",
     "output_type": "stream",
     "text": [
      "H\n",
      "e\n",
      "l\n",
      "l\n",
      "o\n"
     ]
    }
   ],
   "source": [
    "#8.\tHow can you iterate through the characters of a string using a for loop in Python?\n",
    "\n",
    "#Ans: \n",
    "    \n",
    "#Syntax\n",
    "string = \"Hello\"\n",
    "for char in string:\n",
    "        print(char)"
   ]
  },
  {
   "cell_type": "code",
   "execution_count": 14,
   "id": "d58bfb7f-0dc6-4450-b95a-8b66db2e90be",
   "metadata": {},
   "outputs": [
    {
     "name": "stdout",
     "output_type": "stream",
     "text": [
      "Largest number is : 300\n"
     ]
    }
   ],
   "source": [
    "#9.\tWrite a Python program to find the largest number in a list using a for loop.\n",
    "\n",
    "list_ =[1,2,300,4,5,33,100]\n",
    "max_ = list_[0]\n",
    "for i in list_:\n",
    "    if i>max_:\n",
    "        max_=i\n",
    "print(\"Largest number is :\",max_ )      "
   ]
  },
  {
   "cell_type": "code",
   "execution_count": 19,
   "id": "8773719c-48c7-48df-a94c-e2f0c76866ce",
   "metadata": {},
   "outputs": [
    {
     "name": "stdout",
     "output_type": "stream",
     "text": [
      "0\n",
      "1\n",
      "1\n",
      "2\n",
      "3\n",
      "5\n",
      "8\n",
      "13\n",
      "21\n",
      "34\n"
     ]
    }
   ],
   "source": [
    "#10.Create a Python program that prints the Fibonacci sequence up to a specified limit using a for loop.\n",
    "\n",
    "limit = 10\n",
    "a=0\n",
    "b=1\n",
    "for i in range(limit):\n",
    "    print(a)\n",
    "    a,b=b,a+b"
   ]
  },
  {
   "cell_type": "code",
   "execution_count": 20,
   "id": "b4c7c69b-651d-4f83-9060-b4fc04e6a23e",
   "metadata": {},
   "outputs": [
    {
     "name": "stdout",
     "output_type": "stream",
     "text": [
      "Total numbers vowels are: 5\n"
     ]
    }
   ],
   "source": [
    "#11.\tWrite a Python program to count the number of vowels in a given string using a for loop.\n",
    "\n",
    "string = \"Education\"\n",
    "\n",
    "vowel = \"aeiouAEIOU\"\n",
    "count=0\n",
    "for i in string:\n",
    "    if i in vowel:\n",
    "        count+=1\n",
    "print(\"Total numbers vowels are:\",count)      "
   ]
  },
  {
   "cell_type": "code",
   "execution_count": 22,
   "id": "2c868446-97cb-43af-8b1c-29c01455ce94",
   "metadata": {},
   "outputs": [
    {
     "name": "stdout",
     "output_type": "stream",
     "text": [
      "Multiplication table of 6 is:\n",
      "6  X 1  = 6\n",
      "6  X 2  = 12\n",
      "6  X 3  = 18\n",
      "6  X 4  = 24\n",
      "6  X 5  = 30\n",
      "6  X 6  = 36\n",
      "6  X 7  = 42\n",
      "6  X 8  = 48\n",
      "6  X 9  = 54\n",
      "6  X 10 = 60\n"
     ]
    }
   ],
   "source": [
    "#12.\tCreate a Python program that generates a multiplication table for a given number using a for loop.\n",
    "\n",
    "number  = 6\n",
    "\n",
    "print(f\"Multiplication table of {6} is:\")\n",
    "for i in range(1,11):\n",
    "    print(f\"{number:<2} X {i:<2} = {number*i}\")"
   ]
  },
  {
   "cell_type": "code",
   "execution_count": 32,
   "id": "45b4f22a-30a5-43c3-b3cd-a946628c80c6",
   "metadata": {},
   "outputs": [
    {
     "name": "stdout",
     "output_type": "stream",
     "text": [
      "[8, 7, 633, 5, 44, 3, 2, 10]\n"
     ]
    }
   ],
   "source": [
    "#13.\tWrite a Python program to reverse a list using a for loop.\n",
    "\n",
    "list_ =[10,2,3,44,5,633,7,8]\n",
    "size = len(list_)\n",
    "for i in range(size//2):\n",
    "    temp = list_[i]\n",
    "    list_[i]=list_[size-i-1]\n",
    "    list_[size-i-1]=temp\n",
    "print(list_)"
   ]
  },
  {
   "cell_type": "code",
   "execution_count": 36,
   "id": "61895598-6816-4c81-a26b-d29e09e71283",
   "metadata": {},
   "outputs": [
    {
     "name": "stdout",
     "output_type": "stream",
     "text": [
      "[1, 2, 3, 5, 6]\n"
     ]
    }
   ],
   "source": [
    "#14.\tWrite a Python program to find the common elements between two lists using a for loop.\n",
    "\n",
    "list1=[1,2,2,3,4,5,6]\n",
    "list2=[22,1,22,5,3,2,6]\n",
    "common = []\n",
    "for i in list1:\n",
    "    if (i in list2 and i not in common):\n",
    "        common.append(i)\n",
    "        \n",
    "print(common)"
   ]
  },
  {
   "cell_type": "code",
   "execution_count": 41,
   "id": "46bc8cdf-97b0-4ee7-8e4f-5a7d3049ba59",
   "metadata": {},
   "outputs": [
    {
     "name": "stdout",
     "output_type": "stream",
     "text": [
      "Key: key1, Value: value1\n",
      "Key: key2, Value: value2\n",
      "Key: key3, Value: value3\n"
     ]
    }
   ],
   "source": [
    "#15.\tExplain how to use a for loop to iterate through the keys and values of a dictionary in Python.\n",
    "\n",
    "#In Python, you can use the items() method of a dictionary within a for loop to iterate through both keys and values.\n",
    "my_dict = {'key1': 'value1', 'key2': 'value2', 'key3': 'value3'}\n",
    "\n",
    "# Iterate through keys and values using a for loop\n",
    "for key, value in my_dict.items():\n",
    "    print(f\"Key: {key}, Value: {value}\")\n"
   ]
  },
  {
   "cell_type": "code",
   "execution_count": 49,
   "id": "2189498a-fd8a-4bea-8e02-083cd6631dcb",
   "metadata": {},
   "outputs": [
    {
     "name": "stdout",
     "output_type": "stream",
     "text": [
      "10\n"
     ]
    }
   ],
   "source": [
    "#16.\tWrite a Python program to find the GCD (Greatest Common Divisor) of two numbers using a for loop.\n",
    "\n",
    "def GCD(num1,num2):\n",
    "    n1 = max(num1,num2)\n",
    "    n2= min(num1,num2)\n",
    "    r = n1%n2\n",
    "    while r>0:\n",
    "        r = n1%n2\n",
    "        if r==0:\n",
    "            return n2\n",
    "        n1,n2=n2,r\n",
    "    return(n2)\n",
    "\n",
    "print(GCD(10,100))\n",
    "    "
   ]
  },
  {
   "cell_type": "code",
   "execution_count": 66,
   "id": "d32c2b24-3773-4b6c-af3a-21ee1fd12532",
   "metadata": {},
   "outputs": [
    {
     "data": {
      "text/plain": [
       "'malayalam is pallindrome'"
      ]
     },
     "execution_count": 66,
     "metadata": {},
     "output_type": "execute_result"
    }
   ],
   "source": [
    "#17.\tCreate a Python program that checks if a string is a palindrome using a for loop.\n",
    "\n",
    "\n",
    "def checkpallindrome(string):\n",
    "    string = string.lower()\n",
    "    size = len(string)\n",
    "    for i in range(size//2):\n",
    "        if string[i]==string[size-i-1]:\n",
    "            continue\n",
    "        else:\n",
    "            return f\"{string} is not pallindrome\"\n",
    "\n",
    "    return f\"{string} is pallindrome\"\n",
    "\n",
    "\n",
    "string = \"Malayalam\"\n",
    "checkpallindrome(string)\n",
    "\n"
   ]
  },
  {
   "cell_type": "code",
   "execution_count": 67,
   "id": "3915e737-01da-4e12-83b5-171aea255a90",
   "metadata": {},
   "outputs": [
    {
     "name": "stdout",
     "output_type": "stream",
     "text": [
      "[11, 1, 2, 33, 44, 45, 3]\n"
     ]
    }
   ],
   "source": [
    "#18.\tWrite a Python program to remove duplicates from a list using a for loop.\n",
    "\n",
    "list1 = [11,1,1,2,33,2,44,2,45,3,1,11]\n",
    "new_list = []\n",
    "for i in list1:\n",
    "    if i not in new_list:\n",
    "        new_list.append(i)\n",
    "print(new_list)"
   ]
  },
  {
   "cell_type": "code",
   "execution_count": 73,
   "id": "ba82b711-861c-48bb-8293-bb68f1740ae9",
   "metadata": {},
   "outputs": [
    {
     "name": "stdout",
     "output_type": "stream",
     "text": [
      "5\n"
     ]
    }
   ],
   "source": [
    "#19.\tCreate a Python program that counts the number of words in a sentence using a for loop.\n",
    "\n",
    "def wordcount(sentence):\n",
    "    list_ = sentence.split()\n",
    "    count=0\n",
    "    for i in list_:\n",
    "        count+=1\n",
    "    return count\n",
    "\n",
    "sentence = \"hello world how are you\"\n",
    "print(wordcount(sentence))"
   ]
  },
  {
   "cell_type": "code",
   "execution_count": 74,
   "id": "695edd18-4930-4b5c-a0f0-f2d70a6c8e25",
   "metadata": {},
   "outputs": [
    {
     "name": "stdout",
     "output_type": "stream",
     "text": [
      "625\n"
     ]
    }
   ],
   "source": [
    "#20.\tWrite a Python program to find the sum of all odd numbers from 1 to 50 using a for loop.\n",
    "\n",
    "sum_ = 0\n",
    "for i in range(1,51):\n",
    "    if i%2 !=0:\n",
    "        sum_+=i\n",
    "        \n",
    "print(sum_)"
   ]
  },
  {
   "cell_type": "code",
   "execution_count": 76,
   "id": "a205bcde-6436-45dc-909a-24636e80d6c6",
   "metadata": {},
   "outputs": [
    {
     "name": "stdin",
     "output_type": "stream",
     "text": [
      "Enter a year 1800\n"
     ]
    },
    {
     "data": {
      "text/plain": [
       "'1800 is not leap year'"
      ]
     },
     "execution_count": 76,
     "metadata": {},
     "output_type": "execute_result"
    }
   ],
   "source": [
    "#21.\tWrite a Python program that checks if a given year is a leap year.\n",
    "\n",
    "def check_leapyear(year):\n",
    "    if (year%4==0 and year%100 !=0) or year%400==0:\n",
    "        return f\"{year} is leap year\"\n",
    "    else:\n",
    "        return f\"{year} is not leap year\"\n",
    "\n",
    "year = int(input(\"Enter a year\"))\n",
    "check_leapyear(year)"
   ]
  },
  {
   "cell_type": "code",
   "execution_count": 86,
   "id": "63edbdf7-99b1-4b39-9561-41e9cdeeb70d",
   "metadata": {},
   "outputs": [
    {
     "name": "stdin",
     "output_type": "stream",
     "text": [
      "Enter number: 144\n"
     ]
    },
    {
     "name": "stdout",
     "output_type": "stream",
     "text": [
      "12\n"
     ]
    }
   ],
   "source": [
    "#22.\tCreate a Python program that calculates the square root of a number using a for loop.\n",
    "\n",
    "def sqroot(number):\n",
    "    if number==0:\n",
    "        return 0\n",
    "    for i in range(1,number//2+2):\n",
    "        if i*i ==number:\n",
    "            return i \n",
    "    return f\"Not perfect square root\"\n",
    "\n",
    "number = int(input(\"Enter number:\"))\n",
    "print(sqroot(number))"
   ]
  },
  {
   "cell_type": "code",
   "execution_count": 91,
   "id": "d0e60cff-a6ae-44a3-95f8-242485635ec2",
   "metadata": {},
   "outputs": [
    {
     "name": "stdout",
     "output_type": "stream",
     "text": [
      "100\n"
     ]
    }
   ],
   "source": [
    "#23.\tWrite a Python program to find the LCM (Least Common Multiple) of two numbers using a for loop.\n",
    "\n",
    "def lcm(num1,num2):\n",
    "    i=1\n",
    "    max_val = max(num1,num2)\n",
    "    min_val = min(num1,num2)\n",
    "    while True:\n",
    "        if ( max_val*i)%min_val==0:\n",
    "            return max_val*i\n",
    "        i+=1\n",
    "        \n",
    "print(lcm(10,100))"
   ]
  },
  {
   "cell_type": "markdown",
   "id": "a3d2e204-ca96-4f74-8b43-2caae2fdcc57",
   "metadata": {},
   "source": [
    "# if else--------"
   ]
  },
  {
   "cell_type": "code",
   "execution_count": 3,
   "id": "aac3e0c5-0b6d-40d7-96bd-082314c03240",
   "metadata": {},
   "outputs": [
    {
     "name": "stdin",
     "output_type": "stream",
     "text": [
      "Enter a number to check: 0\n"
     ]
    },
    {
     "name": "stdout",
     "output_type": "stream",
     "text": [
      "Number is zero\n"
     ]
    }
   ],
   "source": [
    "#1.\tWrite a Python program to check if a number is positive, negative, or zero using an if-else statement.\n",
    "\n",
    "num = int(input(\"Enter a number to check:\"))\n",
    "if num>0:\n",
    "    print(\"Number is positive\")\n",
    "elif num<0:\n",
    "    print(\"Number is negative\")\n",
    "else:\n",
    "    print(\"Number is zero\")"
   ]
  },
  {
   "cell_type": "code",
   "execution_count": 6,
   "id": "0a38a98d-7f02-4560-8b4d-067cbbe9e92f",
   "metadata": {},
   "outputs": [
    {
     "name": "stdin",
     "output_type": "stream",
     "text": [
      "Enter a number to check 7\n"
     ]
    },
    {
     "name": "stdout",
     "output_type": "stream",
     "text": [
      "Number is odd\n"
     ]
    }
   ],
   "source": [
    "#2.\tCreate a Python program that checks if a given number is even or odd using an if-else statement.\n",
    "num = int(input(\"Enter a number to check\"))\n",
    "if num%2==0:\n",
    "    print(\"Number is even\")\n",
    "else:\n",
    "    print(\"Number is odd\")"
   ]
  },
  {
   "cell_type": "code",
   "execution_count": 8,
   "id": "0a4d70a4-1789-4b4a-bb57-3268f2590581",
   "metadata": {},
   "outputs": [
    {
     "name": "stdout",
     "output_type": "stream",
     "text": [
      "Number is odd\n"
     ]
    }
   ],
   "source": [
    "#3.\tHow can you use nested if-else statements in Python, and provide an example?\n",
    "\n",
    "# Ans: We use nested if-else statements when we need to check another condition to run statements if prior condition is satisfied.\n",
    "\n",
    "# Syntax:\n",
    "\n",
    "# if condition1:\n",
    "#       if condition2:\n",
    "#       // statments\n",
    "      \n",
    "#       else:\n",
    "#       // else statements\n",
    "# else:\n",
    "#   //statements\n",
    "\n",
    "# example of nested if-else\n",
    "\n",
    "number  = 101\n",
    "if number>0:\n",
    "    if number%2==0:\n",
    "        print(\"Number is even\")\n",
    "    else:\n",
    "        print(\"Number is odd\")\n",
    "else:\n",
    "    print(\"Number is not positive\")\n",
    "     "
   ]
  },
  {
   "cell_type": "code",
   "execution_count": 10,
   "id": "ed3ef5a8-21e5-41a4-99fa-6d5a3217c28d",
   "metadata": {},
   "outputs": [
    {
     "name": "stdout",
     "output_type": "stream",
     "text": [
      "200 is greater\n"
     ]
    }
   ],
   "source": [
    "#4.\tWrite a Python program to determine the largest of three numbers using if-else.\n",
    "\n",
    "num1 = 10\n",
    "num2 = 200\n",
    "num3 = 30\n",
    "\n",
    "if num1>num2:\n",
    "    if num1>num3:\n",
    "        print(f\"{num1} is greater\")\n",
    "    else:\n",
    "        print(f\"{num3} is greater\")\n",
    "        \n",
    "else:\n",
    "    if num2>num3:\n",
    "        print(f\"{num2} is greater\")\n",
    "        \n",
    "    else:\n",
    "        print(f\"{num3} is greater\")\n",
    "        "
   ]
  },
  {
   "cell_type": "code",
   "execution_count": 14,
   "id": "a5632785-4c63-4fa0-ac3d-fd216914c8a6",
   "metadata": {},
   "outputs": [
    {
     "name": "stdin",
     "output_type": "stream",
     "text": [
      "Enter a number -6\n"
     ]
    },
    {
     "name": "stdout",
     "output_type": "stream",
     "text": [
      "6\n"
     ]
    }
   ],
   "source": [
    "#5.\tWrite a Python program that calculates the absolute value of a number using if-else.\n",
    "\n",
    "def absolute(num):\n",
    "    if num<0:\n",
    "        return (-num)\n",
    "    else:\n",
    "        return num\n",
    "\n",
    "\n",
    "num  = int(input(\"Enter a number\"))\n",
    "print(absolute(num))"
   ]
  },
  {
   "cell_type": "code",
   "execution_count": 18,
   "id": "aded523c-2e5b-469a-8ae9-3ebcf81a3a62",
   "metadata": {},
   "outputs": [
    {
     "name": "stdin",
     "output_type": "stream",
     "text": [
      "Enter character to check u\n"
     ]
    },
    {
     "name": "stdout",
     "output_type": "stream",
     "text": [
      "u is vowel\n"
     ]
    }
   ],
   "source": [
    "#6.\tCreate a Python program that checks if a given character is a vowel or consonant using if-else.\n",
    "\n",
    "def checkchar(char):\n",
    "    if char in \"AEIOUaeiou\":\n",
    "        print(f\"{char} is vowel\")\n",
    "    else:\n",
    "        if char.isalpha():\n",
    "            print(f\"{char} is consonant\")\n",
    "            \n",
    "char = input(\"Enter character to check\")\n",
    "checkchar(char)"
   ]
  },
  {
   "cell_type": "code",
   "execution_count": 20,
   "id": "9d02364c-f574-4d3e-be94-cd54d7339f91",
   "metadata": {},
   "outputs": [
    {
     "name": "stdin",
     "output_type": "stream",
     "text": [
      "Enter age: 20\n"
     ]
    },
    {
     "name": "stdout",
     "output_type": "stream",
     "text": [
      "Eligible to vote\n"
     ]
    }
   ],
   "source": [
    "#7.\tWrite a Python program to determine if a user is eligible to vote based on their age using if-else.\n",
    "\n",
    "age = int(input(\"Enter age:\"))\n",
    "if age>=18:\n",
    "    print(\"Eligible to vote\")\n",
    "else:\n",
    "    print(\"Not eligible to vote\")"
   ]
  },
  {
   "cell_type": "code",
   "execution_count": 22,
   "id": "8bf98fcb-357a-40cf-90d7-e4da90d4da18",
   "metadata": {},
   "outputs": [
    {
     "name": "stdin",
     "output_type": "stream",
     "text": [
      "Enter the purchase amount: Rs 500\n"
     ]
    },
    {
     "name": "stdout",
     "output_type": "stream",
     "text": [
      "Discount amount: Rs 50.00\n"
     ]
    }
   ],
   "source": [
    "#8.\tCreate a Python program that calculates the discount amount based on the purchase amount using if-else.\n",
    "def calculate_discount(purchase_amount):\n",
    "    # Define discount thresholds and rates\n",
    "    discount_threshold_1 = 100\n",
    "    discount_rate_1 = 0.05  # 5% discount for amounts over $100\n",
    "    discount_threshold_2 = 200\n",
    "    discount_rate_2 = 0.1   # 10% discount for amounts over $200\n",
    "\n",
    "    # Apply discounts based on purchase amount\n",
    "    if purchase_amount <= discount_threshold_1:\n",
    "        discount = 0\n",
    "    elif purchase_amount <= discount_threshold_2:\n",
    "        discount = purchase_amount * discount_rate_1\n",
    "    else:\n",
    "        discount = purchase_amount * discount_rate_2\n",
    "\n",
    "    return discount\n",
    "\n",
    "# Example usage\n",
    "purchase_amount = float(input(\"Enter the purchase amount: Rs\"))\n",
    "discount_amount = calculate_discount(purchase_amount)\n",
    "\n",
    "print(f\"Discount amount: Rs {discount_amount:.2f}\")\n"
   ]
  },
  {
   "cell_type": "code",
   "execution_count": 23,
   "id": "991393b8-f0bc-4a3a-9bb5-bed67fe2d4ab",
   "metadata": {},
   "outputs": [
    {
     "name": "stdin",
     "output_type": "stream",
     "text": [
      "Enter a number to check:  56\n"
     ]
    },
    {
     "name": "stdout",
     "output_type": "stream",
     "text": [
      "56.0 is outside the specified range [10, 50]\n"
     ]
    }
   ],
   "source": [
    "#9.\tWrite a Python program to check if a number is within a specified range using if-else.\n",
    "\n",
    "def check_range(number, lower_limit, upper_limit):\n",
    "    if lower_limit <= number <= upper_limit:\n",
    "        return f\"{number} is within the specified range [{lower_limit}, {upper_limit}]\"\n",
    "    else:\n",
    "        return f\"{number} is outside the specified range [{lower_limit}, {upper_limit}]\"\n",
    "\n",
    "# Example usage\n",
    "lower_limit = 10\n",
    "upper_limit = 50\n",
    "number_to_check = float(input(\"Enter a number to check: \"))\n",
    "\n",
    "result = check_range(number_to_check, lower_limit, upper_limit)\n",
    "print(result)\n"
   ]
  },
  {
   "cell_type": "code",
   "execution_count": 27,
   "id": "eb3e2308-8b88-4994-a73c-7c8ec058882f",
   "metadata": {},
   "outputs": [
    {
     "name": "stdin",
     "output_type": "stream",
     "text": [
      "Enter percentage score: 45\n"
     ]
    },
    {
     "name": "stdout",
     "output_type": "stream",
     "text": [
      "C grade\n"
     ]
    }
   ],
   "source": [
    "#10. Create a Python program that determines the grade of a student based on their score using if-else.\n",
    "\n",
    "score = float(input(\"Enter percentage score:\"))\n",
    "\n",
    "if 90<score<=100:\n",
    "    print(\"A+ grade\")\n",
    "elif 80<score<=90:\n",
    "    print(\"A grade\")\n",
    "elif 70<score<=80:\n",
    "    print(\"B+ grade\")\n",
    "elif 60<score<=70:\n",
    "    print(\"B grade\")\n",
    "elif 50<score<=60:\n",
    "    print(\"C+ grade\")\n",
    "elif 40<score<=50:\n",
    "    print(\"C grade\")\n",
    "elif 32<score<=40:\n",
    "    print(\"D grade\")\n",
    "else:\n",
    "    print(\"F grade\")"
   ]
  },
  {
   "cell_type": "code",
   "execution_count": 30,
   "id": "3a65ce57-1e93-4252-b498-d1b47547561a",
   "metadata": {},
   "outputs": [
    {
     "name": "stdout",
     "output_type": "stream",
     "text": [
      "String is not empty\n"
     ]
    }
   ],
   "source": [
    "#11. Write a Python program to check if a string is empty or not using if-else.\n",
    "\n",
    "string = \"hello\"\n",
    "\n",
    "if not string:\n",
    "    print(\"String is empty\")\n",
    "else:\n",
    "    print(\"String is not empty\")"
   ]
  },
  {
   "cell_type": "code",
   "execution_count": 34,
   "id": "6a3268be-dfb1-4d00-aae8-9925096f10a6",
   "metadata": {},
   "outputs": [
    {
     "name": "stdin",
     "output_type": "stream",
     "text": [
      "Enter first side: 4\n",
      "Enter second side: 4\n",
      "Enter third side: 5\n"
     ]
    },
    {
     "name": "stdout",
     "output_type": "stream",
     "text": [
      "Isosceles Triangle\n"
     ]
    }
   ],
   "source": [
    "#12. Create a Python program that identifies the type of a triangle (e.g., equilateral, isosceles, or scalene) based on input values using if-else.\n",
    "\n",
    "s1 = float(input(\"Enter first side:\"))\n",
    "s2 = float(input(\"Enter second side:\"))\n",
    "s3 = float(input(\"Enter third side:\"))\n",
    "\n",
    "if s1==s2==s3:\n",
    "    print(\"Equilateral Triangle\")\n",
    "\n",
    "elif s1==s2 or s1==s3 or s2==s3:\n",
    "    print(\"Isosceles Triangle\")\n",
    "\n",
    "else:\n",
    "    print(\"Scalene Triangle\")"
   ]
  },
  {
   "cell_type": "code",
   "execution_count": 35,
   "id": "be986c05-ac7e-484e-93f2-5cb4911c615a",
   "metadata": {},
   "outputs": [
    {
     "name": "stdin",
     "output_type": "stream",
     "text": [
      "Enter a number (1-7) to determine the day of the week:  5\n"
     ]
    },
    {
     "name": "stdout",
     "output_type": "stream",
     "text": [
      "Friday\n"
     ]
    }
   ],
   "source": [
    "#13. Write a Python program to determine the day of the week based on a user-provided number using if-else.\n",
    "def determine_day_of_week(day_number):\n",
    "    if day_number == 1:\n",
    "        return \"Monday\"\n",
    "    elif day_number == 2:\n",
    "        return \"Tuesday\"\n",
    "    elif day_number == 3:\n",
    "        return \"Wednesday\"\n",
    "    elif day_number == 4:\n",
    "        return \"Thursday\"\n",
    "    elif day_number == 5:\n",
    "        return \"Friday\"\n",
    "    elif day_number == 6:\n",
    "        return \"Saturday\"\n",
    "    elif day_number == 7:\n",
    "        return \"Sunday\"\n",
    "    else:\n",
    "        return \"Invalid day number. Please enter a number between 1 and 7.\"\n",
    "\n",
    "# Example usage\n",
    "user_input = int(input(\"Enter a number (1-7) to determine the day of the week: \"))\n",
    "result = determine_day_of_week(user_input)\n",
    "\n",
    "print(result)\n",
    "\n"
   ]
  },
  {
   "cell_type": "code",
   "execution_count": 38,
   "id": "3dd44ba0-18fd-47d0-9dd6-e1346c41daad",
   "metadata": {},
   "outputs": [
    {
     "name": "stdin",
     "output_type": "stream",
     "text": [
      "Enter year to check: 2000\n"
     ]
    },
    {
     "name": "stdout",
     "output_type": "stream",
     "text": [
      "2000 is leap year\n"
     ]
    }
   ],
   "source": [
    "#14. Create a Python program that checks if a given year is a leap year using both if-else and a function.\n",
    "\n",
    "def leapYearCheck(year):\n",
    "    if (year%4==0 and year%100!=0) or year%400==0:\n",
    "        print(f\"{year} is leap year\")\n",
    "    else:\n",
    "        print(f\"{year} is not leap year\")\n",
    "        \n",
    "year= int(input(\"Enter year to check:\"))\n",
    "leapYearCheck(year)"
   ]
  },
  {
   "cell_type": "code",
   "execution_count": 46,
   "id": "7a6071a8-729f-4668-b406-1e609630dd17",
   "metadata": {},
   "outputs": [
    {
     "ename": "AssertionError",
     "evalue": "Cannot divide by zero",
     "output_type": "error",
     "traceback": [
      "\u001b[0;31m---------------------------------------------------------------------------\u001b[0m",
      "\u001b[0;31mAssertionError\u001b[0m                            Traceback (most recent call last)",
      "Cell \u001b[0;32mIn[46], line 17\u001b[0m\n\u001b[1;32m     14\u001b[0m numerator \u001b[38;5;241m=\u001b[39m \u001b[38;5;241m50\u001b[39m\n\u001b[1;32m     15\u001b[0m denominator \u001b[38;5;241m=\u001b[39m \u001b[38;5;241m0\u001b[39m\n\u001b[0;32m---> 17\u001b[0m \u001b[43mdivide_numbers\u001b[49m\u001b[43m(\u001b[49m\u001b[43mnumerator\u001b[49m\u001b[43m,\u001b[49m\u001b[43m \u001b[49m\u001b[43mdenominator\u001b[49m\u001b[43m)\u001b[49m\n",
      "Cell \u001b[0;32mIn[46], line 4\u001b[0m, in \u001b[0;36mdivide_numbers\u001b[0;34m(a, b)\u001b[0m\n\u001b[1;32m      3\u001b[0m \u001b[38;5;28;01mdef\u001b[39;00m \u001b[38;5;21mdivide_numbers\u001b[39m(a, b):\n\u001b[0;32m----> 4\u001b[0m     \u001b[38;5;28;01massert\u001b[39;00m b \u001b[38;5;241m!=\u001b[39m \u001b[38;5;241m0\u001b[39m, \u001b[38;5;124m\"\u001b[39m\u001b[38;5;124mCannot divide by zero\u001b[39m\u001b[38;5;124m\"\u001b[39m\n\u001b[1;32m      6\u001b[0m     result \u001b[38;5;241m=\u001b[39m a \u001b[38;5;241m/\u001b[39m b\n\u001b[1;32m      8\u001b[0m     \u001b[38;5;28;01mif\u001b[39;00m result \u001b[38;5;241m>\u001b[39m \u001b[38;5;241m10\u001b[39m:\n",
      "\u001b[0;31mAssertionError\u001b[0m: Cannot divide by zero"
     ]
    }
   ],
   "source": [
    "#15. How do you use the \"assert\" statement in Python to add debugging checks within if-else blocks?\n",
    "\n",
    "\n",
    "\n",
    "# The assert statement in Python is used to include debugging checks in your code. \n",
    "# It takes an expression and an optional error message. If the expression evaluates \n",
    "# to False, an AssertionError is raised, and the optional error message is displayed.\n",
    "\n",
    "eg:\n",
    "\n",
    "def divide_numbers(a, b):\n",
    "    assert b != 0, \"Cannot divide by zero\"\n",
    "    \n",
    "    result = a / b\n",
    "    \n",
    "    if result > 10:\n",
    "        print(\"Result is greater than 10\")\n",
    "    else:\n",
    "        print(\"Result is not greater than 10\")\n",
    "\n",
    "# Example usage\n",
    "numerator = 50\n",
    "denominator = 0\n",
    "\n",
    "divide_numbers(numerator, denominator)\n"
   ]
  },
  {
   "cell_type": "code",
   "execution_count": 47,
   "id": "f73ad088-5201-48a4-81cd-737ae8705358",
   "metadata": {},
   "outputs": [
    {
     "name": "stdin",
     "output_type": "stream",
     "text": [
      "Enter your age:  67\n"
     ]
    },
    {
     "name": "stdout",
     "output_type": "stream",
     "text": [
      "You are eligible for a senior citizen discount!\n"
     ]
    }
   ],
   "source": [
    "#16. Create a Python program that determines the eligibility of a person for a senior citizen discount based on age using if-else.\n",
    "def check_senior_citizen_discount(age):\n",
    "    senior_citizen_age = 60\n",
    "\n",
    "    if age >= senior_citizen_age:\n",
    "        return f\"You are eligible for a senior citizen discount!\"\n",
    "    else:\n",
    "        return f\"Sorry, you are not eligible for a senior citizen discount.\"\n",
    "\n",
    "# Example usage\n",
    "user_age = int(input(\"Enter your age: \"))\n",
    "result = check_senior_citizen_discount(user_age)\n",
    "\n",
    "print(result)\n"
   ]
  },
  {
   "cell_type": "code",
   "execution_count": 54,
   "id": "9b7827bc-284d-4a43-849e-f8a2ec88cc7f",
   "metadata": {},
   "outputs": [
    {
     "name": "stdin",
     "output_type": "stream",
     "text": [
      "Enter a character: G\n"
     ]
    },
    {
     "name": "stdout",
     "output_type": "stream",
     "text": [
      "Char is in uppercase\n"
     ]
    }
   ],
   "source": [
    "#17. Write a Python program to categorize a given character as uppercase, lowercase, or neither using if-else.\n",
    "\n",
    "char = input(\"Enter a character:\")\n",
    "if char.isalpha() and char==char.upper():\n",
    "    print(\"Char is in uppercase\")\n",
    "elif char.isalpha() and char==char.lower():\n",
    "    print(\"Char is in lowercase\")\n",
    "else:\n",
    "    print(\"Neither\")"
   ]
  },
  {
   "cell_type": "code",
   "execution_count": 55,
   "id": "5d704096-c51c-42d9-9411-c1f40e5efb4a",
   "metadata": {},
   "outputs": [
    {
     "name": "stdin",
     "output_type": "stream",
     "text": [
      "Enter the coefficient of x^2 (a):  1\n",
      "Enter the coefficient of x (b):  2\n",
      "Enter the constant term (c):  3\n"
     ]
    },
    {
     "name": "stdout",
     "output_type": "stream",
     "text": [
      "Complex roots: (-1+1.4142135623730951j), (-1-1.4142135623730951j)\n"
     ]
    }
   ],
   "source": [
    "#18. Write a Python program to determine the roots of a quadratic equation using if-else.\n",
    "import cmath  # Using cmath for handling complex roots\n",
    "\n",
    "def calculate_roots(a, b, c):\n",
    "    # Calculate the discriminant\n",
    "    discriminant = b**2 - 4*a*c\n",
    "\n",
    "    # Check if the discriminant is non-negative\n",
    "    if discriminant >= 0:\n",
    "        # Real roots\n",
    "        root1 = (-b + cmath.sqrt(discriminant)) / (2*a)\n",
    "        root2 = (-b - cmath.sqrt(discriminant)) / (2*a)\n",
    "        return f\"Real roots: {root1}, {root2}\"\n",
    "    else:\n",
    "        # Complex roots\n",
    "        complex_root1 = (-b + cmath.sqrt(discriminant)) / (2*a)\n",
    "        complex_root2 = (-b - cmath.sqrt(discriminant)) / (2*a)\n",
    "        return f\"Complex roots: {complex_root1}, {complex_root2}\"\n",
    "\n",
    "# Example usage\n",
    "a = float(input(\"Enter the coefficient of x^2 (a): \"))\n",
    "b = float(input(\"Enter the coefficient of x (b): \"))\n",
    "c = float(input(\"Enter the constant term (c): \"))\n",
    "\n",
    "result = calculate_roots(a, b, c)\n",
    "print(result)\n"
   ]
  },
  {
   "cell_type": "code",
   "execution_count": 61,
   "id": "d5cfee8e-e709-4f6e-a30b-295ab7b5e43c",
   "metadata": {},
   "outputs": [
    {
     "name": "stdin",
     "output_type": "stream",
     "text": [
      "Enter a year:  2000\n"
     ]
    },
    {
     "name": "stdout",
     "output_type": "stream",
     "text": [
      "2000 is a century year.\n"
     ]
    }
   ],
   "source": [
    "#19. Create a Python program that checks if a given year is a century year or not using if-else.\n",
    "def check_century_year(year):\n",
    "    if year % 100 == 0:\n",
    "        return f\"{year} is a century year.\"\n",
    "    else:\n",
    "        return f\"{year} is not a century year.\"\n",
    "\n",
    "user_year = int(input(\"Enter a year: \"))\n",
    "result = check_century_year(user_year)\n",
    "\n",
    "print(result)\n"
   ]
  },
  {
   "cell_type": "code",
   "execution_count": 72,
   "id": "26577f2c-a6b4-4de6-8234-c0b5867566e0",
   "metadata": {},
   "outputs": [
    {
     "name": "stdin",
     "output_type": "stream",
     "text": [
      "Enter a number: 9\n"
     ]
    },
    {
     "name": "stdout",
     "output_type": "stream",
     "text": [
      "Number is perfect square\n"
     ]
    }
   ],
   "source": [
    "#20. Write a Python program to determine if a given number is a perfect square using if-else.\n",
    "\n",
    "num = int(input(\"Enter a number:\"))\n",
    "if num**0.5 * num**0.5 ==num:\n",
    "    \n",
    "    print('Number is perfect square')\n",
    "else:\n",
    "    print(\"Number is not a perfect square\")\n",
    "    "
   ]
  },
  {
   "cell_type": "code",
   "execution_count": 1,
   "id": "585985b4-cb5a-408a-bb99-268f76ccd8fa",
   "metadata": {},
   "outputs": [
    {
     "name": "stdout",
     "output_type": "stream",
     "text": [
      "1\n",
      "3\n",
      "5\n",
      "7\n",
      "9\n",
      "11\n"
     ]
    }
   ],
   "source": [
    "#21. Explain the purpose of the \"continue\" and \"break\" statements within if-else loops.\n",
    "\n",
    "# Continue statement is used inside loop for purposely skip the iteration and move to next iteration for a condition \n",
    "# whereas break statement is used to exit the current loop when we want to exit the loop for a condition.\n",
    "\n",
    "# eg: This program will print odd numbers till 11\n",
    "\n",
    "i=0\n",
    "while True:\n",
    "    if i%2==0:\n",
    "        i+=1\n",
    "        continue\n",
    "    print(i)\n",
    "    if i==11:\n",
    "        break\n",
    "    i+=1\n",
    "    "
   ]
  },
  {
   "cell_type": "code",
   "execution_count": 2,
   "id": "2bc088c5-d02c-4b0a-9046-6c9fe09aa312",
   "metadata": {},
   "outputs": [
    {
     "name": "stdin",
     "output_type": "stream",
     "text": [
      "Enter your weight in kilograms:  44\n",
      "Enter your height in centimeters:  160\n"
     ]
    },
    {
     "name": "stdout",
     "output_type": "stream",
     "text": [
      "Your BMI is 17.19. You are categorized as Underweight.\n"
     ]
    }
   ],
   "source": [
    "#22. Create a Python program that calculates the BMI (Body Mass Index) of a person based on their weight and height using if-else.\n",
    "def calculate_bmi(weight, height):\n",
    "    # Convert height from centimeters to meters\n",
    "    height_meters = height / 100\n",
    "\n",
    "    # Calculate BMI\n",
    "    bmi = weight / (height_meters ** 2)\n",
    "\n",
    "    # Categorize BMI\n",
    "    if bmi < 18.5:\n",
    "        category = \"Underweight\"\n",
    "    elif 18.5 <= bmi < 25:\n",
    "        category = \"Normal weight\"\n",
    "    elif 25 <= bmi < 30:\n",
    "        category = \"Overweight\"\n",
    "    else:\n",
    "        category = \"Obese\"\n",
    "\n",
    "    return f\"Your BMI is {bmi:.2f}. You are categorized as {category}.\"\n",
    "\n",
    "user_weight = float(input(\"Enter your weight in kilograms: \"))\n",
    "user_height = float(input(\"Enter your height in centimeters: \"))\n",
    "\n",
    "result = calculate_bmi(user_weight, user_height)\n",
    "print(result)\n"
   ]
  },
  {
   "cell_type": "code",
   "execution_count": 13,
   "id": "cec48c71-2a3b-4417-9cd2-3c51e4b653e1",
   "metadata": {},
   "outputs": [
    {
     "name": "stdout",
     "output_type": "stream",
     "text": [
      "[1, 3, 5, 7, 9]\n"
     ]
    }
   ],
   "source": [
    "#23. How can you use the \"filter()\" function with if-else statements to filter elements from a list?\n",
    "\n",
    "# The filter() function in Python is used to filter elements from an iterable (e.g., a list) based on a specified function or condition. \n",
    "\n",
    "list_= [1,2,3,4,5,6,7,8,9]\n",
    "\n",
    "list_odd = list(filter(lambda x:True if x%2!=0 else False,list_))\n",
    "print(list_odd)"
   ]
  },
  {
   "cell_type": "code",
   "execution_count": 19,
   "id": "89810a17-9ebe-4c4b-9035-a753a61b5dd3",
   "metadata": {},
   "outputs": [
    {
     "data": {
      "text/plain": [
       "'Prime number'"
      ]
     },
     "execution_count": 19,
     "metadata": {},
     "output_type": "execute_result"
    }
   ],
   "source": [
    "#24. Write a Python program to determine if a given number is prime or not using if-else.\n",
    "\n",
    "def primeCheck(num):\n",
    "    if num<=1:\n",
    "        return \"Not a prime\"\n",
    "    \n",
    "    for i in range(2,int(num**0.5)+1):\n",
    "        if num%i ==0:\n",
    "            return \"Not a prime\"\n",
    "    return \"Prime number\"\n",
    "\n",
    "primeCheck(5)"
   ]
  },
  {
   "cell_type": "markdown",
   "id": "61d1e87c-9383-4c95-a19f-1e632a16b090",
   "metadata": {},
   "source": [
    "# Map---------"
   ]
  },
  {
   "cell_type": "code",
   "execution_count": null,
   "id": "fae9da50-fcc5-41a6-a13e-e0a08f7d87b3",
   "metadata": {},
   "outputs": [],
   "source": [
    "#1.\tExplain the purpose of the `map()` function in Python and provide an example of how it can be used to apply a function to each element of an iterable.\n",
    "\n",
    "# The map() function in Python is a built-in function that is used to \n",
    "# apply a specified function to all items in an iterable (e.g., a list, tuple, or string) \n",
    "# and returns an iterable(map object) of the results.\n",
    "\n",
    "# syntax:\n",
    "#     map(function,iterable,...)\n",
    "    \n",
    "    \n",
    "# Example function to square a number\n",
    "def square(x):\n",
    "    return x**2\n",
    "\n",
    "# List of numbers\n",
    "numbers = [1, 2, 3, 4, 5]\n",
    "\n",
    "# Using map() to square each element in the list\n",
    "squared_numbers = map(square, numbers)\n",
    "\n",
    "# Converting the result to a list (as map() returns a map object)\n",
    "squared_numbers_list = list(squared_numbers)\n",
    "\n",
    "# Output\n",
    "print(squared_numbers_list)\n"
   ]
  },
  {
   "cell_type": "code",
   "execution_count": 3,
   "id": "65b63956-888d-4328-b5ea-3fff859d9299",
   "metadata": {},
   "outputs": [
    {
     "name": "stdout",
     "output_type": "stream",
     "text": [
      "[1, 4, 9, 16, 25, 36]\n"
     ]
    }
   ],
   "source": [
    "#2.\tWrite a Python program that uses the `map()` function to square each element of a list of numbers.\n",
    "\n",
    "numbers = [1,2,3,4,5,6]\n",
    "list_sq = list(map(lambda x: x**2,numbers))\n",
    "print(list_sq)"
   ]
  },
  {
   "cell_type": "code",
   "execution_count": null,
   "id": "564cf019-550c-4465-b83d-5179f587aa36",
   "metadata": {},
   "outputs": [],
   "source": [
    "#3.\tHow does the `map()` function differ from a list comprehension in Python, and when would you choose one over the other?\n",
    "\n",
    "# Difference in Output Type:\n",
    "\n",
    "# Syntax:\n",
    "\n",
    "# map() returns a map object.\n",
    "# List comprehension directly produces a list.\n",
    "\n",
    "# Readability:\n",
    "\n",
    "# map() involves a separate function and requires explicit conversion.\n",
    "# List comprehensions have concise, expressive syntax.\n",
    "\n",
    "# Performance:\n",
    "\n",
    "# map() can be less readable for simple operations.\n",
    "# List comprehensions are often more readable.\n",
    "\n",
    "# Use Cases:\n",
    "\n",
    "# List comprehensions may have a slight performance edge but usually negligible.\n",
    "\n",
    "# Use map() when applying an existing function to every element.\n",
    "# Use list comprehensions for concise transformations and filtering."
   ]
  },
  {
   "cell_type": "code",
   "execution_count": 5,
   "id": "fbabacaa-2d9e-47da-b29c-603f7dc06e4f",
   "metadata": {},
   "outputs": [
    {
     "name": "stdout",
     "output_type": "stream",
     "text": [
      "['RITHIN', 'JITHIN', 'NITHIN']\n"
     ]
    }
   ],
   "source": [
    "#4.\tCreate a Python program that uses the `map()` function to convert a list of names to uppercase.\n",
    "\n",
    "list_names = [\"rithin\",\"jithin\",\"nithin\"]\n",
    "list_upper = list(map(lambda x: x.upper(),list_names))\n",
    "print(list_upper)\n",
    "                  "
   ]
  },
  {
   "cell_type": "code",
   "execution_count": 1,
   "id": "00bb8aee-0d45-44f2-a3f5-c578b8f272aa",
   "metadata": {},
   "outputs": [
    {
     "name": "stdout",
     "output_type": "stream",
     "text": [
      "[5, 3, 3]\n"
     ]
    }
   ],
   "source": [
    "#5.\tWrite a Python program that uses the `map()` function to calculate the length of each word in a list of strings.\n",
    "\n",
    "list_strings = [\"Hello\",\"How\",\"are\"]\n",
    "list_len = list(map(lambda x:len(x),list_strings))\n",
    "print(list_len)"
   ]
  },
  {
   "cell_type": "code",
   "execution_count": 2,
   "id": "d2d97e45-3099-4d30-b991-7907e21b0198",
   "metadata": {},
   "outputs": [
    {
     "name": "stdout",
     "output_type": "stream",
     "text": [
      "[3, 5, 7, 9, 11, 13]\n"
     ]
    }
   ],
   "source": [
    "#6.\tHow can you use the `map()` function to apply a custom function to elements of multiple lists simultaneously in Python?\n",
    "\n",
    "# To apply a custom function to elements of multiple lists simultaneously using \n",
    "# the map() function in Python, you can pass multiple iterable arguments to map(). \n",
    "\n",
    "#example:\n",
    "\n",
    "l1=[1,2,3,4,5,6]\n",
    "l2=[2,3,4,5,6,7]\n",
    "\n",
    "new_list= list(map(lambda a,b:a+b,l1,l2))\n",
    "print(new_list)"
   ]
  },
  {
   "cell_type": "code",
   "execution_count": 3,
   "id": "3484c666-4a55-4961-aa9e-8101ecb90e60",
   "metadata": {},
   "outputs": [
    {
     "name": "stdout",
     "output_type": "stream",
     "text": [
      "[53.6, 113.0, 35.6, 132.8]\n"
     ]
    }
   ],
   "source": [
    "#7.\tCreate a Python program that uses `map()` to convert a list of temperatures from Celsius to Fahrenheit.\n",
    "\n",
    "def celsiusToFahrenheit(c):\n",
    "    f = (9/5)*c+32\n",
    "    return f\n",
    "\n",
    "list_C = [12,45,2,56]\n",
    "list_F = list(map(celsiusToFahrenheit,list_C))\n",
    "print(list_F)"
   ]
  },
  {
   "cell_type": "code",
   "execution_count": 5,
   "id": "81841dfd-c52d-40b3-a074-f512941bb5df",
   "metadata": {},
   "outputs": [
    {
     "name": "stdout",
     "output_type": "stream",
     "text": [
      "[1, 4, 4]\n"
     ]
    }
   ],
   "source": [
    "#8.\tWrite a Python program that uses the `map()` function to round each element of a list of floating-point numbers to the nearest integer.\n",
    "\n",
    "list_ = [1.22,3.7,4.5]\n",
    "\n",
    "list_round = list(map(lambda x: round(x),list_))\n",
    "print(list_round)"
   ]
  },
  {
   "cell_type": "markdown",
   "id": "8da7624a-b7bc-4b0e-b8f2-4c58ae21b837",
   "metadata": {},
   "source": [
    "# Reduce---------"
   ]
  },
  {
   "cell_type": "code",
   "execution_count": 20,
   "id": "87030d00-fbcc-418a-bf7a-06ed7b0cd7bf",
   "metadata": {},
   "outputs": [
    {
     "name": "stdout",
     "output_type": "stream",
     "text": [
      "Product: 120\n"
     ]
    }
   ],
   "source": [
    "#1.\tWhat is the `reduce()` function in Python, and what module should you import to use it? Provide an example of its basic usage.\n",
    "\n",
    "\n",
    "# The reduce() function in Python is part of the functools module.\n",
    "# It is used for aggregating elements of an iterable, applying a\n",
    "# specified function successively to the elements, and reducing the \n",
    "# iterable to a single accumulated result. The syntax of reduce() is as follows:\n",
    "    \n",
    "# functools.reduce(function, iterable[, initializer])\n",
    "\n",
    "# function: The function to apply cumulatively to the items of the iterable.\n",
    "# iterable: The iterable to be reduced.\n",
    "# initializer (optional): An initial value to start the accumulation. \n",
    "#                         If not provided, the first two elements of the iterable will be used.\n",
    "    \n",
    "    \n",
    "import functools as f\n",
    "\n",
    "# Example function to calculate the product of two numbers\n",
    "def multiply(x, y):\n",
    "    return x * y\n",
    "\n",
    "# List of numbers\n",
    "numbers = [1, 2, 3, 4, 5]\n",
    "\n",
    "# Using reduce() to find the product of elements in the list\n",
    "product = f.reduce(multiply, numbers)\n",
    "\n",
    "# Output\n",
    "print(\"Product:\", product)\n"
   ]
  },
  {
   "cell_type": "code",
   "execution_count": 10,
   "id": "6a29e32b-b9cf-4bc9-87b6-7e08045397b1",
   "metadata": {},
   "outputs": [
    {
     "name": "stdout",
     "output_type": "stream",
     "text": [
      "24\n"
     ]
    }
   ],
   "source": [
    "#2.\tWrite a Python program that uses the `reduce()` function to find the product of all elements in a list.\n",
    "import functools as f\n",
    "\n",
    "list_ = [1,2,3,4]\n",
    "product = f.reduce(lambda a,b:a*b,list_)\n",
    "print(product)"
   ]
  },
  {
   "cell_type": "code",
   "execution_count": 12,
   "id": "aaccaf0a-f502-4006-a8ff-abb805db0b6b",
   "metadata": {},
   "outputs": [
    {
     "name": "stdout",
     "output_type": "stream",
     "text": [
      "10\n"
     ]
    }
   ],
   "source": [
    "#3.\tCreate a Python program that uses `reduce()` to find the maximum element in a list of numbers.\n",
    "\n",
    "import functools as f\n",
    "list_ = [10,2,3,4]\n",
    "\n",
    "maximum = f.reduce(lambda a,b: a if a>b else b,list_)\n",
    "print(maximum)"
   ]
  },
  {
   "cell_type": "code",
   "execution_count": 13,
   "id": "14313b2c-b72b-4d16-8447-7f7dbde7fc39",
   "metadata": {},
   "outputs": [
    {
     "name": "stdout",
     "output_type": "stream",
     "text": [
      "HELLO\n"
     ]
    }
   ],
   "source": [
    "#4.\tHow can you use the `reduce()` function to concatenate a list of strings into a single string?\n",
    "\n",
    "import functools as f\n",
    "list_strings = [\"H\",\"E\",\"L\",\"L\",\"O\"]\n",
    "\n",
    "string = f.reduce(lambda a,b:a+b,list_strings)\n",
    "print(string)"
   ]
  },
  {
   "cell_type": "code",
   "execution_count": 17,
   "id": "44f431e2-b3aa-4e78-8962-9d3c208469ad",
   "metadata": {},
   "outputs": [
    {
     "name": "stdout",
     "output_type": "stream",
     "text": [
      "120\n"
     ]
    }
   ],
   "source": [
    "#5.\tWrite a Python program that calculates the factorial of a number using the `reduce()` function.\n",
    "\n",
    "import functools as f\n",
    "num = 5\n",
    "factorial = f.reduce(lambda a,b:a*b,range(1,num+1))\n",
    "print(factorial)\n"
   ]
  },
  {
   "cell_type": "code",
   "execution_count": 19,
   "id": "aec00838-8303-4b2d-a5ca-80f50e248001",
   "metadata": {},
   "outputs": [
    {
     "name": "stdout",
     "output_type": "stream",
     "text": [
      "10\n"
     ]
    }
   ],
   "source": [
    "#6.\tCreate a Python program that uses `reduce()` to find the GCD (Greatest Common Divisor) of a list of numbers.\n",
    "\n",
    "import functools as f\n",
    "\n",
    "def gcd(a,b):\n",
    "    a,b=max(a,b),min(a,b)\n",
    "    while True:\n",
    "        r = a%b\n",
    "        if r==0:\n",
    "            return b\n",
    "        a,b=b,r\n",
    "\n",
    "\n",
    "list_ = [10,20,30]\n",
    "GCD = f.reduce(gcd,list_)\n",
    "print(GCD)\n"
   ]
  },
  {
   "cell_type": "code",
   "execution_count": 9,
   "id": "720ae90d-1eb1-42b4-997b-0b74e2955103",
   "metadata": {},
   "outputs": [
    {
     "name": "stdout",
     "output_type": "stream",
     "text": [
      "12\n"
     ]
    }
   ],
   "source": [
    "#7.\tWrite a Python program that uses the `reduce()` function to find the sum of the digits of a given number.\n",
    "\n",
    "import functools as f\n",
    "\n",
    "num = 1434\n",
    "sum_ = f.reduce(lambda a,b:int(a)+int(b),list(f\"{num}\"))\n",
    "print(sum_)"
   ]
  },
  {
   "cell_type": "markdown",
   "id": "0db1c654-1f18-4e1f-b19a-eca7e0d22101",
   "metadata": {},
   "source": [
    "# Filter"
   ]
  },
  {
   "cell_type": "code",
   "execution_count": 21,
   "id": "d8576361-f1fb-49bb-a5be-f09e007b3dcc",
   "metadata": {},
   "outputs": [
    {
     "name": "stdout",
     "output_type": "stream",
     "text": [
      "[2, 4, 6, 8, 10]\n"
     ]
    }
   ],
   "source": [
    "#1.\tExplain the purpose of the `filter()` function in Python and provide an example of how it can be used to filter elements from an iterable.\n",
    "\n",
    "# The filter() function in Python is a built-in function that \n",
    "# is used to filter elements from an iterable based on a specified function.\n",
    "# It constructs an iterator from elements of the iterable for which the function returns True. \n",
    "\n",
    "#syntax\n",
    "#filter(function, iterable)\n",
    "\n",
    "\n",
    "# Example function to filter even numbers\n",
    "def is_even(num):\n",
    "    return num % 2 == 0\n",
    "\n",
    "# List of numbers\n",
    "numbers = [1, 2, 3, 4, 5, 6, 7, 8, 9, 10]\n",
    "\n",
    "# Using filter() to filter even numbers from the list\n",
    "even_numbers = filter(is_even, numbers)\n",
    "\n",
    "# Converting the result to a list (as filter() returns an iterator)\n",
    "even_numbers_list = list(even_numbers)\n",
    "\n",
    "# Output\n",
    "print(even_numbers_list)\n",
    "\n",
    "\n"
   ]
  },
  {
   "cell_type": "code",
   "execution_count": 19,
   "id": "22d9e732-267f-47cf-a7f9-28a35691b8cb",
   "metadata": {},
   "outputs": [
    {
     "name": "stdout",
     "output_type": "stream",
     "text": [
      "[2, 4, 6, 8]\n"
     ]
    }
   ],
   "source": [
    "#2.\tWrite a Python program that uses the `filter()` function to select even numbers from a list of integers.\n",
    "\n",
    "list_=[1,2,3,4,5,6,7,8]\n",
    "\n",
    "list_filtered = list(filter(lambda x:x%2==0,list_))\n",
    "print(list_filtered)"
   ]
  },
  {
   "cell_type": "code",
   "execution_count": 15,
   "id": "60b2aedb-8ddb-4a91-a569-799c4e772086",
   "metadata": {},
   "outputs": [
    {
     "name": "stdout",
     "output_type": "stream",
     "text": [
      "['rithin', 'riya']\n"
     ]
    }
   ],
   "source": [
    "#3.\tCreate a Python program that uses the `filter()` function to select names that start with a specific letter from a list of strings.\n",
    "\n",
    "list_ = [\"rithin\",\"riya\",\"Heena\",\"Jaya\"]\n",
    "\n",
    "list_filtered = list(filter(lambda x:x.startswith(\"r\"),list_))\n",
    "print(list_filtered)"
   ]
  },
  {
   "cell_type": "code",
   "execution_count": 10,
   "id": "28512e9d-79a4-44c4-afa8-65101641e239",
   "metadata": {},
   "outputs": [
    {
     "name": "stdout",
     "output_type": "stream",
     "text": [
      "[3, 5, 7, 13, 17]\n"
     ]
    }
   ],
   "source": [
    "#4.\tWrite a Python program that uses the `filter()` function to select prime numbers from a list of integers.\n",
    "\n",
    "def primeCheck(num):\n",
    "    if num<=1:\n",
    "        return False\n",
    "    \n",
    "    for i in range(2,int(num**0.5)+1):\n",
    "        if num%i==0:\n",
    "            return False\n",
    "    return True\n",
    "\n",
    "list_ = [10,222,9,3,1,5,7,1,13,44,25,66,80,17]\n",
    "\n",
    "list_filtered = list(filter(lambda x:primeCheck(x),list_))\n",
    "print(list_filtered)"
   ]
  },
  {
   "cell_type": "code",
   "execution_count": 8,
   "id": "78a771b2-699d-424e-8f89-89d6f7656adc",
   "metadata": {},
   "outputs": [
    {
     "name": "stdout",
     "output_type": "stream",
     "text": [
      "[1, 2, 3, 4]\n"
     ]
    }
   ],
   "source": [
    "#5.\tHow can you use the `filter()` function to remove None values from a list in Python?\n",
    "\n",
    "list_ = [1,2,3,4,None]\n",
    "\n",
    "list_filtered = list(filter(lambda x: x is not None,list_))\n",
    "print(list_filtered)"
   ]
  },
  {
   "cell_type": "code",
   "execution_count": 4,
   "id": "45c488ce-f4e0-452a-8df9-719b0048897d",
   "metadata": {},
   "outputs": [
    {
     "name": "stdout",
     "output_type": "stream",
     "text": [
      "['Hello']\n"
     ]
    }
   ],
   "source": [
    "#6.\tCreate a Python program that uses `filter()` to select words longer than a certain length from a list of strings.\n",
    "\n",
    "list_ = [\"Hello\",\"hi\",\"l\"]\n",
    "length = 2\n",
    "\n",
    "list_words = list(filter(lambda x:len(x)>length,list_))\n",
    "print(list_words)"
   ]
  },
  {
   "cell_type": "code",
   "execution_count": 2,
   "id": "70a26c2d-b41e-4391-859d-e8f766884cb4",
   "metadata": {},
   "outputs": [
    {
     "name": "stdout",
     "output_type": "stream",
     "text": [
      "[5, 6, 7, 8, 9, 10]\n"
     ]
    }
   ],
   "source": [
    "#7.\tWrite a Python program that uses the `filter()` function to select elements greater than a specified threshold from a list of values.\n",
    "\n",
    "list_ = [1,2,3,4,5,6,7,8,9,10]\n",
    "threshold = 4\n",
    "\n",
    "filtered_list = list(filter(lambda x:x>threshold,list_))\n",
    "print(filtered_list)"
   ]
  },
  {
   "cell_type": "markdown",
   "id": "70bac796-82b4-4dc6-b4f8-1b52ef9e9bde",
   "metadata": {},
   "source": [
    "# Recurssion"
   ]
  },
  {
   "cell_type": "raw",
   "id": "24eda278-472a-47a6-b6a1-43d7a0219237",
   "metadata": {},
   "source": [
    "#1.\tExplain the concept of recursion in Python. How does it differ from iteration?\n",
    "\n",
    "Recursion is a programming concept where a function calls itself directly or indirectly to solve a problem. In Python, a recursive function is one that performs a task in part and delegates the remaining task to a subsequent invocation of itself. Each recursive call involves a smaller instance of the problem until a base case is reached, providing a termination condition.\n",
    "\n",
    "Differences from Iteration:\n",
    "\n",
    "Mechanism:\n",
    "\n",
    "Recursion: Function calls itself to break down the problem into smaller instances.\n",
    "Iteration: Uses loops (e.g., for, while) to repeatedly execute a set of statements.\n",
    "\n",
    "Termination:\n",
    "\n",
    "Recursion: Requires a base case to stop the recursive calls.\n",
    "Iteration: Continues until a specified condition is false.\n",
    "\n",
    "Code Readability:\n",
    "\n",
    "Recursion: Can lead to more concise code for certain problems.\n",
    "Iteration: May be more explicit and readable in some cases.\n",
    "\n",
    "State Management:\n",
    "\n",
    "Recursion: Utilizes the call stack for state management.\n",
    "Iteration: Manages state explicitly using variables.\n",
    "\n",
    "Performance:\n",
    "\n",
    "Recursion: May have higher memory usage due to the call stack.\n",
    "Iteration: Often more memory-efficient."
   ]
  },
  {
   "cell_type": "code",
   "execution_count": 4,
   "id": "e36b40ca-6ac8-484c-8806-b9e2e731292f",
   "metadata": {},
   "outputs": [
    {
     "name": "stdout",
     "output_type": "stream",
     "text": [
      "24\n"
     ]
    }
   ],
   "source": [
    "#2.\tWrite a Python program to calculate the factorial of a number using recursion.\n",
    "\n",
    "def factorial(num):\n",
    "    if num<=1:\n",
    "        return 1\n",
    "    else:\n",
    "        return num*factorial(num-1)\n",
    "    \n",
    "num =4\n",
    "print(factorial(num))"
   ]
  },
  {
   "cell_type": "code",
   "execution_count": 5,
   "id": "ad50b007-cec1-4309-89e2-4041870fdbd9",
   "metadata": {},
   "outputs": [
    {
     "name": "stdout",
     "output_type": "stream",
     "text": [
      "5\n"
     ]
    }
   ],
   "source": [
    "#3.\tCreate a recursive Python function to find the nth Fibonacci number.\n",
    "\n",
    "def fibNum(n):\n",
    "    if n<=1:\n",
    "        return n\n",
    "    else:\n",
    "        return fibNum(n-1)+fibNum(n-2)\n",
    "    \n",
    "nth_number = 5\n",
    "print(fibNum(nth_number))"
   ]
  },
  {
   "cell_type": "code",
   "execution_count": 6,
   "id": "01ecfebb-aa50-4ed7-a8cd-620de71389a6",
   "metadata": {},
   "outputs": [
    {
     "name": "stdout",
     "output_type": "stream",
     "text": [
      "10\n"
     ]
    }
   ],
   "source": [
    "#4.\tWrite a recursive Python function to calculate the sum of all elements in a list.\n",
    "\n",
    "def sumOfListElements(l):\n",
    "    if len(l)==1:\n",
    "        return l[0]\n",
    "    else:\n",
    "        return l[0]+sumOfListElements(l[1:])\n",
    "\n",
    "list_ = [1,2,3,4]\n",
    "print(sumOfListElements(list_))"
   ]
  },
  {
   "cell_type": "raw",
   "id": "3b921d88-52b5-4f9b-912b-7c6ba2f22c25",
   "metadata": {},
   "source": [
    "#5.\tHow can you prevent a recursive function from running indefinitely, causing a stack overflow error?\n",
    "\n",
    "To prevent a recursive function from running indefinitely and causing a stack overflow error, one should ensure that the recursion has a proper termination condition. Here are some key strategies:\n",
    "\n",
    "Base Case:\n",
    "\n",
    "Always define a base case or termination condition in the recursive function. This is the condition under which the recursion stops and the function returns a result without making further recursive calls.\n",
    "Progress Toward Base Case:\n",
    "\n",
    "Ensure that each recursive call moves closer to the base case. This helps in making progress toward termination, preventing an infinite loop."
   ]
  },
  {
   "cell_type": "code",
   "execution_count": 19,
   "id": "2ab2d097-a4ea-4fbd-9da2-91bdb2d88ac2",
   "metadata": {},
   "outputs": [
    {
     "name": "stdin",
     "output_type": "stream",
     "text": [
      "Enter first Number: 10\n",
      "Enter second Number: 25\n"
     ]
    },
    {
     "name": "stdout",
     "output_type": "stream",
     "text": [
      "GCD of two given numbers is: 5\n"
     ]
    }
   ],
   "source": [
    "#6.\tCreate a recursive Python function to find the greatest common divisor (GCD) of two numbers using the Euclidean algorithm.\n",
    "\n",
    "def findmax(a,b):\n",
    "        a,b = (a if a>b else b),(a if a<b else b)\n",
    "        return a,b\n",
    "\n",
    "\n",
    "def GCD(a,b):    \n",
    "    if a%b==0:\n",
    "        return b\n",
    "    else:\n",
    "        return GCD(b,a%b)\n",
    "    \n",
    "\n",
    "a = int(input(\"Enter first Number:\"))\n",
    "b = int(input(\"Enter second Number:\"))\n",
    "\n",
    "c= findmax(a,b)\n",
    "print(\"GCD of two given numbers is:\",GCD(c[0],c[1]))"
   ]
  },
  {
   "cell_type": "code",
   "execution_count": 5,
   "id": "3cdb7455-570d-4792-aa8c-e052f604b5d7",
   "metadata": {},
   "outputs": [
    {
     "name": "stdout",
     "output_type": "stream",
     "text": [
      "olleh\n"
     ]
    }
   ],
   "source": [
    "#7.\tWrite a recursive Python function to reverse a string.\n",
    "\n",
    "def rev(string):\n",
    "    if len(string)==1:\n",
    "        return string\n",
    "    else:\n",
    "        return string[-1]+rev(string[:-1])\n",
    "    \n",
    "print(rev(\"hello\"))"
   ]
  },
  {
   "cell_type": "code",
   "execution_count": 22,
   "id": "41371dbe-804e-4b82-9743-a59c1ce398ec",
   "metadata": {},
   "outputs": [
    {
     "name": "stdout",
     "output_type": "stream",
     "text": [
      "1024\n"
     ]
    }
   ],
   "source": [
    "#8.\tCreate a recursive Python function to calculate the power of a number (x^n).\n",
    "\n",
    "def power(num,pov):\n",
    "    if pov==1:\n",
    "        return num\n",
    "    else:\n",
    "        mid = pov//2\n",
    "        ans = power(num,mid)\n",
    "        final = ans * ans\n",
    "        \n",
    "        if pov%2==0:\n",
    "            return final\n",
    "        else:\n",
    "            return num*final\n",
    "\n",
    "        \n",
    "print(power(2,10))"
   ]
  },
  {
   "cell_type": "code",
   "execution_count": 1,
   "id": "4e772549-d558-42cd-bc8c-fc3cdf37f3c9",
   "metadata": {},
   "outputs": [
    {
     "name": "stdout",
     "output_type": "stream",
     "text": [
      "abc\n",
      "acb\n",
      "bac\n",
      "bca\n",
      "cab\n",
      "cba\n"
     ]
    }
   ],
   "source": [
    "#9.\tWrite a recursive Python function to find all permutations of a given string.\n",
    "\n",
    "def get_permutations(s, current=''):\n",
    "    if not s:\n",
    "        # Base case: when there are no characters left to permute\n",
    "        print(current)\n",
    "    else:\n",
    "        for i in range(len(s)):\n",
    "            # Choose a character as the starting point\n",
    "            start_char = s[i]\n",
    "            \n",
    "            # Remaining characters after excluding the chosen character\n",
    "            remaining_chars = s[:i] + s[i+1:]\n",
    "            \n",
    "            # Recursively permute the remaining characters\n",
    "            get_permutations(remaining_chars, current + start_char)\n",
    "\n",
    "input_string = \"abc\"\n",
    "get_permutations(input_string)\n"
   ]
  },
  {
   "cell_type": "code",
   "execution_count": 1,
   "id": "5fd30971-72f1-458b-bf5d-bc3c75a4855e",
   "metadata": {},
   "outputs": [
    {
     "name": "stdin",
     "output_type": "stream",
     "text": [
      "Enter string to check pallindrome malayalam\n"
     ]
    },
    {
     "name": "stdout",
     "output_type": "stream",
     "text": [
      "String is palindrome\n"
     ]
    }
   ],
   "source": [
    "#10. Write a recursive Python function to check if a string is a palindrome.\n",
    "\n",
    "def checkPalD(original):\n",
    "    \n",
    "    if len(original)<=1:\n",
    "        return True\n",
    "        \n",
    "    elif original[0]!=original[-1]:\n",
    "        return False\n",
    "            \n",
    "    else:\n",
    "        return checkPalD(original[1:-1])\n",
    "\n",
    "string = input(\"Enter string to check pallindrome\")\n",
    "if checkPalD(string.lower()):\n",
    "    print(\"String is palindrome\")\n",
    "else:\n",
    "    print(\"String is not palindrome\")"
   ]
  },
  {
   "cell_type": "code",
   "execution_count": 2,
   "id": "5ddcc9d0-45c1-4c7a-a55b-d8e3b0bb5b0b",
   "metadata": {},
   "outputs": [
    {
     "name": "stdout",
     "output_type": "stream",
     "text": [
      "[1, 2, 3]\n",
      "[1, 2]\n",
      "[1, 3]\n",
      "[1]\n",
      "[2, 3]\n",
      "[2]\n",
      "[3]\n",
      "[]\n"
     ]
    }
   ],
   "source": [
    "#11. Create a recursive Python function to generate all possible combinations of a list of elements.\n",
    "\n",
    "def generate_combinations(elements, current_combination=[], index=0):\n",
    "    if index == len(elements):\n",
    "        # Base case: print the current combination when all elements are considered\n",
    "        print(current_combination)\n",
    "        return \n",
    "\n",
    "    # Recursive case: include the element at the current index in the combination\n",
    "    generate_combinations(elements, current_combination + [elements[index]], index + 1)\n",
    "     \n",
    "    # Recursive case: exclude the element at the current index from the combination\n",
    "    generate_combinations(elements, current_combination, index + 1)\n",
    "\n",
    "elements_list = [1, 2, 3]\n",
    "generate_combinations(elements_list)\n"
   ]
  },
  {
   "cell_type": "markdown",
   "id": "fc3fdcb6-7e25-4c04-9856-bdd6d099dfc3",
   "metadata": {},
   "source": [
    "# Basic of functions"
   ]
  },
  {
   "cell_type": "raw",
   "id": "d121ac66-eb09-418b-9453-059caf69af69",
   "metadata": {},
   "source": [
    "#1.\tWhat is a function in Python, and why is it used?\n",
    "\n",
    "In Python, a function is a reusable block of code that performs a specific task or set of tasks. It is defined using the def keyword, followed by the function name and a block of code. Functions can take parameters (inputs), perform operations, and optionally return a result.\n",
    "\n",
    "Functions are used when we need to execute certain instructions again and again. Instead of writing again and again block of statements we declare function once and pass the parameters when we call the funtion.\n",
    "\n",
    "function definition:\n",
    "\n",
    "def function_name(parameter1, parameter2):\n",
    "    # Code block\n",
    "\n",
    "\n",
    "function call:\n",
    "\n",
    "function_name(parameters)\n"
   ]
  },
  {
   "cell_type": "raw",
   "id": "1c49f116-adb0-4633-9313-7704a51accaf",
   "metadata": {},
   "source": [
    "#2.\tHow do you define a function in Python? Provide an example.\n",
    "\n",
    "we define a function using a def keyword followed by function name and parameters.\n",
    "\n",
    "def function_name(parameter1, parameter2):\n",
    "    # Code block\n",
    "\n",
    "\n",
    "example:\n",
    "\n",
    "def add(a,b):\n",
    "     return a+b\n",
    "\n",
    "add is a function which takes two parameters and returns the addition of two numbers.\n"
   ]
  },
  {
   "cell_type": "raw",
   "id": "7a0fad51-327b-4111-8460-683970342e7d",
   "metadata": {},
   "source": [
    "#3.\tExplain the difference between a function definition and a function call.\n",
    "\n",
    "A function definition is where you specify the name of the function, the parameters it takes, and the code block that gets executed when the function is called.\n",
    "It is like creating a blueprint or template for the function.\n",
    "\n",
    "A function call is when you use the function's name along with parentheses to execute the code inside the function's block.\n",
    "It involves providing actual values (arguments) for the parameters defined in the function."
   ]
  },
  {
   "cell_type": "code",
   "execution_count": 2,
   "id": "0a8c1657-eca1-4a09-a525-ab6b42f9868e",
   "metadata": {},
   "outputs": [
    {
     "name": "stdout",
     "output_type": "stream",
     "text": [
      "7\n"
     ]
    }
   ],
   "source": [
    "#4.\tWrite a Python program that defines a function to calculate the sum of two numbers and then calls the function.\n",
    "\n",
    "def add(a,b):\n",
    "     return a+b\n",
    "    \n",
    "\n",
    "result = add(2,5)\n",
    "print(result)"
   ]
  },
  {
   "cell_type": "raw",
   "id": "a7c71067-6684-4090-8931-1787e4bb8fdf",
   "metadata": {},
   "source": [
    "#5.\tWhat is a function signature, and what information does it typically include?\n",
    "\n",
    "A function signature refers to the declaration or header of a function, providing essential information about the function without detailing its implementation.\n",
    "It includes the function name, the types and order of its parameters, and sometimes the return type.\n",
    "Typical Components of a Function Signature:\n",
    "\n",
    "Function Name:\n",
    "\n",
    "The unique identifier for the function.\n",
    "Parameters:\n",
    "\n",
    "The names and types of input parameters the function accepts.\n",
    "Specifies the information the function expects when called.\n",
    "Return Type:\n",
    "\n",
    "The data type of the value the function returns.\n",
    "If a function doesn't return anything, the return type is often specified as void or omitted.\n",
    "\n",
    "example:\n",
    "\n",
    "def calculate_area(radius: float) -> float:\n",
    "\n",
    "Function Name: calculate_area\n",
    "Parameter: radius of type float\n",
    "Return Type: float\n"
   ]
  },
  {
   "cell_type": "code",
   "execution_count": 4,
   "id": "2cd67e26-7ac5-43c8-9278-30790279361c",
   "metadata": {},
   "outputs": [
    {
     "name": "stdin",
     "output_type": "stream",
     "text": [
      "Enter first number: 4\n",
      "Enter second number: 5\n"
     ]
    },
    {
     "name": "stdout",
     "output_type": "stream",
     "text": [
      "20\n"
     ]
    }
   ],
   "source": [
    "#6.\tCreate a Python function that takes two arguments and returns their product.\n",
    "\n",
    "def prod(a,b):\n",
    "    return a*b\n",
    "\n",
    "\n",
    "a = int(input(\"Enter first number:\"))\n",
    "b= int(input(\"Enter second number:\"))\n",
    "result = prod(a,b)\n",
    "print(result)"
   ]
  },
  {
   "cell_type": "markdown",
   "id": "6f42cabd-b336-471e-bf19-365183ba7d94",
   "metadata": {},
   "source": [
    "# Function parameters and arguments"
   ]
  },
  {
   "cell_type": "raw",
   "id": "4b716351-5465-428e-90bc-6162ea75faf0",
   "metadata": {},
   "source": [
    "#1.\tExplain the concepts of formal parameters and actual arguments in Python functions.\n",
    "\n",
    "Formal parameters are placeholders for the values that a function will receive when it is called.\n",
    "They are the parameters listed in the function definition.\n",
    "Formal parameters act as variables within the function's code block.\n",
    "\n",
    "Actual arguments are the values passed to a function when it is called.\n",
    "They are the real values that are substituted for the formal parameters during the function call.\n",
    "Actual arguments can be variables, literals, expressions, or even other function calls."
   ]
  },
  {
   "cell_type": "code",
   "execution_count": 5,
   "id": "1c58e41d-1753-42fd-8952-7fdeba65f12c",
   "metadata": {},
   "outputs": [
    {
     "name": "stdout",
     "output_type": "stream",
     "text": [
      "Hello World\n"
     ]
    }
   ],
   "source": [
    "#2.\tWrite a Python program that defines a function with default argument values.\n",
    "\n",
    "def printvalues(string = \"Hello World\"):\n",
    "    print(string)\n",
    "    \n",
    "printvalues()"
   ]
  },
  {
   "cell_type": "raw",
   "id": "498a1f7a-13ba-45e4-8425-731130759331",
   "metadata": {},
   "source": [
    "#3.\tHow do you use keyword arguments in Python function calls? Provide an example.\n",
    "\n",
    "In Python, we can use keyword arguments in function calls to specify values for parameters by explicitly mentioning the parameter names along with the corresponding values. This allows us to pass arguments to a function in a more flexible order, and it also makes the function call more self-explanatory.\n",
    "\n",
    "example:\n",
    "\n",
    "def print_person_info(name, age, city):\n",
    "    print(\"Name:\", name)\n",
    "    print(\"Age:\", age)\n",
    "    print(\"City:\", city)\n",
    "\n",
    "# Using keyword arguments in the function call\n",
    "print_person_info(name=\"Alice\", age=30, city=\"Wonderland\")\n"
   ]
  },
  {
   "cell_type": "code",
   "execution_count": 6,
   "id": "c30cd63c-9d67-45f8-bf85-67db4cf9969d",
   "metadata": {},
   "outputs": [
    {
     "name": "stdout",
     "output_type": "stream",
     "text": [
      "21\n"
     ]
    }
   ],
   "source": [
    "#4.\tCreate a Python function that accepts a variable number of arguments and calculates their sum.\n",
    "\n",
    "def add(*args):\n",
    "    return sum(args)\n",
    "\n",
    "print(add(1,2,3,4,5,6))"
   ]
  },
  {
   "cell_type": "raw",
   "id": "1fd088b9-55ff-4641-8813-26c069a99c1d",
   "metadata": {},
   "source": [
    "#5.\tWhat is the purpose of the `*args` and `**kwargs` syntax in function parameter lists?\n",
    "\n",
    "The *args and **kwargs syntax in function parameter lists are used to handle a variable number of arguments in a flexible and dynamic way.\n",
    "\n",
    "*args (Arbitrary Positional Arguments):\n",
    "\n",
    "Purpose:\n",
    "\n",
    "Allows a function to accept any number of positional arguments.\n",
    "Collects these arguments into a tuple.\n",
    "\n",
    "Enables the creation of functions with a variable number of inputs.\n",
    "\n",
    "Useful when the number of arguments is not known in advance.\n",
    "\n",
    "Example:\n",
    "\n",
    "def example_function(*args):\n",
    "    for arg in args:\n",
    "        print(arg)\n",
    "\n",
    "example_function(1, 2, 3, \"four\")\n",
    "\n",
    "\n",
    "**kwargs (Arbitrary Keyword Arguments):\n",
    "\n",
    "Purpose:\n",
    "\n",
    "Allows a function to accept any number of keyword arguments.\n",
    "Collects these arguments into a dictionary.\n",
    "\n",
    "The keys are the parameter names, and the values are the corresponding argument values.\n",
    "Enables the creation of functions with a variable number of named inputs.\n",
    "\n",
    "Useful when dealing with functions that may have additional, optional parameters.\n",
    "\n",
    "Example:\n",
    "def example_function(**kwargs):\n",
    "    for key, value in kwargs.items():\n",
    "        print(key, \":\", value)\n",
    "\n",
    "example_function(name=\"Alice\", age=30, city=\"Wonderland\")\n"
   ]
  },
  {
   "cell_type": "markdown",
   "id": "44f1bde8-4bb6-492a-afb7-4ba0c43d2e40",
   "metadata": {},
   "source": [
    "# Return Values and Scoping:\n"
   ]
  },
  {
   "cell_type": "raw",
   "id": "11211ac6-f05f-498f-9da8-608a6e903e94",
   "metadata": {},
   "source": [
    "#1.\tDescribe the role of the `return` statement in Python functions and provide examples.\n",
    "\n",
    "The return statement in Python functions is used to specify the value that a function should return to the caller. It marks the end of the function's execution and provides a way to send data back to the calling code.\n",
    "\n",
    "Role of return Statement:\n",
    "\n",
    "Returning Values:\n",
    "\n",
    "Functions can calculate a result and use return to send that result back to the caller.\n",
    "The returned value can be assigned to a variable or used directly in the calling code.\n",
    "\n",
    "Exiting Function Execution:\n",
    "\n",
    "When a return statement is encountered, the function immediately exits, and any subsequent code in the function is not executed.\n",
    "\n",
    "Multiple Return Statements:\n",
    "\n",
    "Functions can have multiple return statements, each conditionally returning a different value based on certain criteria.\n",
    "\n",
    "Examples:\n",
    "\n",
    "def add_numbers(x, y):\n",
    "    result = x + y\n",
    "    return result\n",
    "\n",
    "sum_result = add_numbers(3, 5)\n",
    "print(sum_result)  # Output: 8\n",
    "\n",
    "\n",
    "\n",
    "def greet(name):\n",
    "    if not name:\n",
    "        return \"No name provided\"\n",
    "    return \"Hello, \" + name + \"!\"\n",
    "\n",
    "print(greet(\"Alice\"))  # Output: Hello, Alice!\n",
    "print(greet(\"\"))       # Output: No name provided\n",
    "\n",
    "\n",
    "\n",
    "def divide_numbers(x, y):\n",
    "    if y == 0:\n",
    "        return \"Cannot divide by zero\"\n",
    "    return x / y\n",
    "\n",
    "result = divide_numbers(10, 2)\n",
    "print(result)  # Output: 5.0\n",
    "\n",
    "result = divide_numbers(8, 0)\n",
    "print(result)  # Output: Cannot divide by zero\n"
   ]
  },
  {
   "cell_type": "raw",
   "id": "99deb50f-c18d-4039-84ca-6f261f3ad9b3",
   "metadata": {},
   "source": [
    "#2.\tExplain the concept of variable scope in Python, including local and global variables.\n",
    "\n",
    "Variable scope refers to the region of a program where a variable can be accessed or modified. In Python, there are two main types of variable scope:\n",
    "\n",
    "Local Variable Scope:\n",
    "\n",
    "Definition:\n",
    "Variables defined inside a function have a local scope.\n",
    "Access:\n",
    "Limited to the function in which they are defined.\n",
    "Lifetime:\n",
    "Exist only as long as the function is executing.\n",
    "\n",
    "\n",
    "Global Variable Scope:\n",
    "\n",
    "Definition:\n",
    "Variables defined outside of any function or in the global scope.\n",
    "Access:\n",
    "Accessible throughout the entire program, including within functions.\n",
    "Lifetime:\n",
    "Exist as long as the program is running.\n",
    "\n",
    "\n",
    "example:\n",
    "\n",
    "global_variable = \"I am global\"\n",
    "\n",
    "def example_function():\n",
    "    local_variable = \"I am local\"\n",
    "    print(local_variable)       # Output: I am local\n",
    "    print(global_variable)      # Output: I am global\n",
    "\n",
    "example_function()\n",
    "\n",
    "print(global_variable)          # Output: I am global\n",
    "print(local_variable)           # Error: NameError (local_variable is not defined)\n"
   ]
  },
  {
   "cell_type": "code",
   "execution_count": 9,
   "id": "8e5dca1d-d2f3-4210-91ae-ac102e656599",
   "metadata": {},
   "outputs": [
    {
     "name": "stdout",
     "output_type": "stream",
     "text": [
      "Inside the function: 11\n",
      "Outside the function: 11\n"
     ]
    }
   ],
   "source": [
    "#3.\tWrite a Python program that demonstrates the use of global variables within functions.\n",
    "\n",
    "global_variable = 10\n",
    "\n",
    "def increment_global():\n",
    "    global global_variable\n",
    "    global_variable += 1\n",
    "    print(\"Inside the function:\", global_variable)\n",
    "\n",
    "increment_global()\n",
    "\n",
    "print(\"Outside the function:\", global_variable)\n"
   ]
  },
  {
   "cell_type": "code",
   "execution_count": 10,
   "id": "693ee8c4-ec61-4e5b-9ed9-acc545b179a6",
   "metadata": {},
   "outputs": [
    {
     "name": "stdout",
     "output_type": "stream",
     "text": [
      "120\n"
     ]
    }
   ],
   "source": [
    "#4.\tCreate a Python function that calculates the factorial of a number and returns it.\n",
    "\n",
    "def factorial(num):\n",
    "    if num<=1:\n",
    "        return num\n",
    "    else:\n",
    "        return num*factorial(num-1)\n",
    "    \n",
    "print(factorial(5))"
   ]
  },
  {
   "cell_type": "raw",
   "id": "0c748827-1f45-4b47-8dcf-c058b2d8ff8a",
   "metadata": {},
   "source": [
    "#5.\tHow can you access variables defined outside a function from within the function?\n",
    "\n",
    "To access variables defined outside a function from within the function in Python, we can use the variables directly without any additional keyword. Python allows functions to access variables from their containing scope, which includes variables defined in the global scope.\n",
    "\n",
    "Example:\n",
    "\n",
    "# Variable defined in the global scope\n",
    "global_variable = \"I am global\"\n",
    "\n",
    "def access_global_variable():\n",
    "    # Accessing the global variable directly\n",
    "    print(\"Inside the function:\", global_variable)\n",
    "\n",
    "# Call the function\n",
    "access_global_variable()\n",
    "\n",
    "# Access the global variable outside the function\n",
    "print(\"Outside the function:\", global_variable)\n"
   ]
  },
  {
   "cell_type": "markdown",
   "id": "526af1e2-307d-4216-803a-0f04231adaa6",
   "metadata": {},
   "source": [
    "# Lambda Functions and Higher-Order Functions:\n"
   ]
  },
  {
   "cell_type": "raw",
   "id": "c42e6763-eb29-4694-8881-38c73805638c",
   "metadata": {},
   "source": [
    "#1.\tWhat are lambda functions in Python, and when are they typically used?\n",
    "\n",
    "Lambda functions, also known as anonymous functions, are small, inline functions defined using the lambda keyword.\n",
    "They are used for short, simple operations where a full function definition would be overly verbose.\n",
    "Lambda functions can take any number of arguments but can only have one expression.\n",
    "\n",
    "Syntax:\n",
    "lambda arguments: expression\n"
   ]
  },
  {
   "cell_type": "code",
   "execution_count": 11,
   "id": "62950947-19fb-4f89-8ba5-22b89167595c",
   "metadata": {},
   "outputs": [
    {
     "name": "stdout",
     "output_type": "stream",
     "text": [
      "[(4, 1), (3, 2), (1, 5), (2, 8)]\n"
     ]
    }
   ],
   "source": [
    "#2.\tWrite a Python program that uses lambda functions to sort a list of tuples based on the second element.\n",
    "\n",
    "input_list = [(1, 5), (3, 2), (2, 8), (4, 1)]\n",
    "\n",
    "result =  sorted(input_list,key=lambda x:x[1])\n",
    "print(result)"
   ]
  },
  {
   "cell_type": "raw",
   "id": "9638bc8e-349b-40b6-9493-a1b9729978d6",
   "metadata": {},
   "source": [
    "#3.\tExplain the concept of higher-order functions in Python, and provide an example.\n",
    "\n",
    "In Python, a higher-order function is a function that takes one or more functions as arguments or returns a function as its result.\n",
    "Functions in Python are first-class citizens, meaning they can be treated like any other data type.\n",
    "\n",
    "# Higher-order function example: map()\n",
    "\n",
    "def square(x):\n",
    "    return x**2\n",
    "\n",
    "numbers = [1, 2, 3, 4, 5]\n",
    "\n",
    "# Using the higher-order function map() to apply the square function to each element\n",
    "squared_numbers = list(map(square, numbers))\n",
    "\n",
    "print(\"Original Numbers:\", numbers)\n",
    "print(\"Squared Numbers:\", squared_numbers)\n"
   ]
  },
  {
   "cell_type": "code",
   "execution_count": 2,
   "id": "a8e9d2cd-b5f3-4ce7-8129-b68a95a299da",
   "metadata": {},
   "outputs": [
    {
     "name": "stdout",
     "output_type": "stream",
     "text": [
      "[1, 4, 9, 16]\n"
     ]
    }
   ],
   "source": [
    "#4.\tCreate a Python function that takes a list of numbers and a function as arguments, applying the function to each element in the list.\n",
    "\n",
    "\n",
    "def squares(num):\n",
    "    return num*num \n",
    "\n",
    "mylist = [1,2,3,4]\n",
    "square_list = list(map(squares,mylist))\n",
    "print(square_list)"
   ]
  },
  {
   "cell_type": "markdown",
   "id": "4af20d75-9055-4ec8-aeeb-97a07b0ef085",
   "metadata": {},
   "source": [
    "# Built-in Functions:"
   ]
  },
  {
   "cell_type": "raw",
   "id": "adef893f-602c-4330-b1c7-cdf080b019c7",
   "metadata": {},
   "source": [
    "#1.\tDescribe the role of built-in functions like `len()`, `max()`, and `min()` in Python.\n",
    "\n",
    "len():\n",
    "\n",
    "Role:\n",
    "Returns the number of items in an object, such as a sequence (string, list, tuple) or a collection (dictionary, set).\n",
    "Common Usage:\n",
    "Checking the length of a sequence or collection to determine its size.\n",
    "\n",
    "Example:\n",
    "\n",
    "my_list = [1, 2, 3, 4, 5]\n",
    "length = len(my_list)\n",
    "print(length)  # Output: 5\n",
    "\n",
    "\n",
    "max():\n",
    "\n",
    "Role:\n",
    "Returns the largest item in an iterable or the largest of two or more arguments.\n",
    "Common Usage:\n",
    "Finding the maximum value in a list or a sequence of values.\n",
    "\n",
    "Example:\n",
    "\n",
    "numbers = [3, 7, 1, 9, 4]\n",
    "max_value = max(numbers)\n",
    "print(max_value)  # Output: 9\n",
    "\n",
    "\n",
    "\n",
    "min():\n",
    "\n",
    "Role:\n",
    "Returns the smallest item in an iterable or the smallest of two or more arguments.\n",
    "Common Usage:\n",
    "Finding the minimum value in a list or a sequence of values.\n",
    "\n",
    "Example:\n",
    "\n",
    "numbers = [3, 7, 1, 9, 4]\n",
    "min_value = min(numbers)\n",
    "print(min_value)  # Output: 1"
   ]
  },
  {
   "cell_type": "code",
   "execution_count": 5,
   "id": "3a595647-e4ab-46b6-b8c4-bc49a0c88f57",
   "metadata": {},
   "outputs": [
    {
     "name": "stdout",
     "output_type": "stream",
     "text": [
      "[5, 5]\n"
     ]
    }
   ],
   "source": [
    "#2.\tWrite a Python program that uses the `map()` function to apply a function to each element of a list.\n",
    "\n",
    "list1 = [\"Hello\",\"world\"]\n",
    "\n",
    "#code to print length of each strings in list\n",
    "length_of_string = list(map(lambda x:len(x),list1))\n",
    "print(length_of_string)"
   ]
  },
  {
   "cell_type": "raw",
   "id": "4b799c2e-b3e9-4c62-8f3b-6b53c1391f5d",
   "metadata": {},
   "source": [
    "#3.\tHow does the `filter()` function work in Python, and when would you use it?\n",
    "\n",
    "The filter() function is a built-in function in Python that is used to filter elements from an iterable (e.g., a list) based on a provided function (called the \"filtering function\").\n",
    "It creates a new iterable containing only the elements for which the filtering function returns True.\n",
    "\n",
    "syntax:\n",
    "filter(function, iterable)\n",
    "\n",
    "example:\n",
    "\n",
    "def is_even(num):\n",
    "    return num % 2 == 0\n",
    "\n",
    "numbers = [1, 2, 3, 4, 5, 6, 7, 8]\n",
    "\n",
    "filtered_numbers = list(filter(is_even, numbers))\n",
    "print(filtered_numbers)\n"
   ]
  },
  {
   "cell_type": "code",
   "execution_count": 6,
   "id": "4832bca2-2a7f-4b5f-bc77-0f307f0bbfb6",
   "metadata": {},
   "outputs": [
    {
     "name": "stdout",
     "output_type": "stream",
     "text": [
      "120\n"
     ]
    }
   ],
   "source": [
    "#4.\tCreate a Python program that uses the `reduce()` function to find the product of all elements in a list\n",
    "\n",
    "import functools as f\n",
    "\n",
    "list_of_numbers = [1,2,3,4,5]\n",
    "\n",
    "product = f.reduce(lambda a,b: a*b,list_of_numbers)\n",
    "print(product)"
   ]
  },
  {
   "cell_type": "markdown",
   "id": "e31ae461-b97a-46e1-b904-2ddbdef40efe",
   "metadata": {},
   "source": [
    "# Function Documentation and Best Practices:\n"
   ]
  },
  {
   "cell_type": "code",
   "execution_count": 9,
   "id": "728d3455-5001-4e11-9262-4dd87321a38c",
   "metadata": {},
   "outputs": [
    {
     "name": "stdout",
     "output_type": "stream",
     "text": [
      "Help on function calculate_square in module __main__:\n",
      "\n",
      "calculate_square(x)\n",
      "    Calculate the square of a number.\n",
      "    \n",
      "    Parameters:\n",
      "    - x (int): The number to be squared.\n",
      "    \n",
      "    Returns:\n",
      "    - int: The square of the input number.\n",
      "\n",
      "\n",
      "    Calculate the square of a number.\n",
      "\n",
      "    Parameters:\n",
      "    - x (int): The number to be squared.\n",
      "\n",
      "    Returns:\n",
      "    - int: The square of the input number.\n",
      "    \n"
     ]
    }
   ],
   "source": [
    "#1.\tExplain the purpose of docstrings in Python functions and how to write them.\n",
    "\n",
    "# A docstring (documentation string) is a string literal that occurs as the first statement in a module, function, class, or method definition.\n",
    "# The primary purpose of docstrings is to provide documentation or information about the purpose, usage, and behavior of the code to developers.\n",
    "# Docstrings are used by tools like help() and documentation generators to generate documentation for modules, functions, and classes.\n",
    "# Writing Docstrings:\n",
    "\n",
    "# Docstrings are enclosed in triple-quotes (single or double).\n",
    "# There are conventions for docstring content, such as using the triple-quotes for multi-line docstrings.\n",
    "# Docstrings for functions typically include a brief description, parameters, return values, and possibly examples.\n",
    "\n",
    "\n",
    "# example:\n",
    "\n",
    "def calculate_square(x):\n",
    "    \"\"\"\n",
    "    Calculate the square of a number.\n",
    "\n",
    "    Parameters:\n",
    "    - x (int): The number to be squared.\n",
    "\n",
    "    Returns:\n",
    "    - int: The square of the input number.\n",
    "    \"\"\"\n",
    "    return x**2\n",
    "\n",
    "#we can access docstrings using the help() function or by checking the .__doc__ attribute of an object.\n",
    "\n",
    "help(calculate_square)\n",
    "# or\n",
    "print(calculate_square.__doc__)\n",
    "\n"
   ]
  },
  {
   "cell_type": "raw",
   "id": "df8e37e6-6ad5-4653-8816-0014cf160e0c",
   "metadata": {},
   "source": [
    "#2.\tDescribe some best practices for naming functions and variables in Python, including naming conventions and guidelines.\n",
    "\n",
    "\n",
    "Ans:\n",
    "\n",
    "Descriptive and Readable:\n",
    "\n",
    "Choose names that clearly convey the purpose and meaning of the function or variable.\n",
    "Prioritize readability over brevity.\n",
    "\n",
    "\n",
    "Use Snake Case:\n",
    "\n",
    "For variable and function names, use snake_case (all lowercase with underscores between words).\n",
    "Example: calculate_square, total_amount.\n",
    "\n",
    "\n",
    "Be Consistent:\n",
    "\n",
    "Maintain consistency in naming conventions throughout the codebase.\n",
    "Choose a convention and stick to it.\n",
    "\n",
    "\n",
    "Avoid Single-Letter Names:\n",
    "\n",
    "Unless used for iterators or well-known conventions (e.g., i for index, x for coordinates), avoid single-letter variable names.\n",
    "Use meaningful names that describe the variable's purpose.\n",
    "\n",
    "\n",
    "Follow PEP 8:\n",
    "\n",
    "Adhere to the Python Enhancement Proposal (PEP) 8 style guide for naming conventions.\n",
    "PEP 8 recommends using lowercase with underscores for functions and variables.\n",
    "\n",
    "\n",
    "Use Verb-Noun Pairing for Functions:\n",
    "\n",
    "Name functions with a verb that indicates the action they perform, followed by a noun.\n",
    "Example: calculate_total, validate_input.\n",
    "\n",
    "\n",
    "Avoid Reserved Words:\n",
    "\n",
    "Avoid using Python reserved words (e.g., print, list) as variable or function names to prevent conflicts.\n",
    "\n",
    "\n",
    "Use Meaningful Names:\n",
    "\n",
    "Choose names that provide context about the content, purpose, or usage of the variable or function.\n",
    "Aim for self-documenting code.\n",
    "\n",
    "\n",
    "\n",
    "Limit Function Scope:\n",
    "\n",
    "Functions should have a clear and specific purpose.\n",
    "If a function performs multiple tasks, consider breaking it into smaller, focused functions.\n",
    "\n",
    "\n",
    "Use Constants for Constants:\n",
    "\n",
    "If a variable represents a constant, use uppercase letters with underscores.\n",
    "Example: MAX_LENGTH, PI.\n",
    "\n",
    "\n",
    "Avoid Ambiguous Abbreviations:\n",
    "\n",
    "Minimize the use of abbreviations unless they are widely understood and do not reduce code readability.\n",
    "Prefer descriptive names over cryptic abbreviations."
   ]
  }
 ],
 "metadata": {
  "kernelspec": {
   "display_name": "Python 3 (ipykernel)",
   "language": "python",
   "name": "python3"
  },
  "language_info": {
   "codemirror_mode": {
    "name": "ipython",
    "version": 3
   },
   "file_extension": ".py",
   "mimetype": "text/x-python",
   "name": "python",
   "nbconvert_exporter": "python",
   "pygments_lexer": "ipython3",
   "version": "3.10.8"
  }
 },
 "nbformat": 4,
 "nbformat_minor": 5
}
